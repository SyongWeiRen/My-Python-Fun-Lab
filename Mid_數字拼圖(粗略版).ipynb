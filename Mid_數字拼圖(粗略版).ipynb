{
 "cells": [
  {
   "cell_type": "code",
   "execution_count": 1,
   "metadata": {},
   "outputs": [],
   "source": [
    "import numpy as np\n",
    "import matplotlib.pyplot as plt\n",
    "\n",
    "from IPython.display import clear_output\n",
    "import time"
   ]
  },
  {
   "cell_type": "markdown",
   "metadata": {},
   "source": [
    "# 送出題目"
   ]
  },
  {
   "cell_type": "code",
   "execution_count": 6,
   "metadata": {},
   "outputs": [
    {
     "name": "stdout",
     "output_type": "stream",
     "text": [
      "[[6 7 4]\n",
      " [1 3 5]\n",
      " [9 8 2]]\n"
     ]
    }
   ],
   "source": [
    "# 打亂1~9的數字array\n",
    "series = np.arange(1, 9+1)\n",
    "np.random.shuffle(series)\n",
    "\n",
    "# 正確答案\n",
    "ans = np.arange(1, 9+1)\n",
    "\n",
    "# array轉成list，以便之後while的判斷為一個布林值\n",
    "matlist = series.tolist()\n",
    "anslist = ans.tolist()\n",
    "\n",
    "# 題目產生\n",
    "print(series.reshape(3, 3))"
   ]
  },
  {
   "cell_type": "markdown",
   "metadata": {},
   "source": [
    "# 遊戲開始\n",
    "## 遊戲規則\n",
    "* 數字9可與其上下左右的數字交換(按鍵wsad對應上下左右)\n",
    "* 利用此規則使數字拼圖能按照順序排列即可過關\n",
    "* 欲離開遊戲，請輸入exit"
   ]
  },
  {
   "cell_type": "code",
   "execution_count": 7,
   "metadata": {},
   "outputs": [
    {
     "name": "stdout",
     "output_type": "stream",
     "text": [
      "方向：w\n",
      "第30步\n",
      "[[1 2 3]\n",
      " [4 5 6]\n",
      " [7 8 9]]\n",
      "恭喜過關!!!\n"
     ]
    }
   ],
   "source": [
    "step = 0\n",
    "while matlist != anslist:\n",
    "    \n",
    "    # 刪除上一次loop的圖片\n",
    "    clear_output(wait=True)\n",
    "    \n",
    "    # mat轉為矩陣形式\n",
    "    mat = np.array(matlist)\n",
    "    mat = mat.reshape(3, 3)\n",
    "\n",
    "    # 輸入input數字\n",
    "    turn = input(\"方向：\")\n",
    "    \n",
    "    # 離開指令\n",
    "    if turn == \"exit\":\n",
    "        break\n",
    "        \n",
    "    # 判斷執行的動作\n",
    "    spaceindex = np.argwhere(mat == 9)\n",
    "    spaceindex_x = spaceindex[0, 0]\n",
    "    spaceindex_y = spaceindex[0, 1]\n",
    "    if (turn == \"w\") | (turn == \"s\") | (turn == \"a\") | (turn == \"d\"):\n",
    "        \n",
    "        # 上鍵設定\n",
    "        if turn == \"w\":\n",
    "            if spaceindex_x == 2:\n",
    "                print(\"輸入無效\")\n",
    "            else:\n",
    "                changeindex_x = spaceindex_x+1\n",
    "                changeindex_y = spaceindex_y\n",
    "                mat[spaceindex_x, spaceindex_y] = mat[changeindex_x, changeindex_y]\n",
    "                mat[changeindex_x, changeindex_y] = 9 \n",
    "        \n",
    "        # 下鍵設定\n",
    "        if turn == \"s\":\n",
    "            if spaceindex_x == 0:\n",
    "                print(\"輸入無效\")\n",
    "            else:\n",
    "                changeindex_x = spaceindex_x-1\n",
    "                changeindex_y = spaceindex_y\n",
    "                mat[spaceindex_x, spaceindex_y] = mat[changeindex_x, changeindex_y]\n",
    "                mat[changeindex_x, changeindex_y] = 9 \n",
    "\n",
    "        # 左鍵設定\n",
    "        if turn == \"a\":\n",
    "            if spaceindex_y == 2:\n",
    "                print(\"輸入無效\")\n",
    "            else:\n",
    "                changeindex_x = spaceindex_x\n",
    "                changeindex_y = spaceindex_y+1\n",
    "                mat[spaceindex_x, spaceindex_y] = mat[changeindex_x, changeindex_y]\n",
    "                mat[changeindex_x, changeindex_y] = 9 \n",
    "\n",
    "        # 右鍵設定\n",
    "        if turn == \"d\":\n",
    "            if spaceindex_y == 0:\n",
    "                print(\"輸入無效\")\n",
    "            else:\n",
    "                changeindex_x = spaceindex_x\n",
    "                changeindex_y = spaceindex_y-1\n",
    "                mat[spaceindex_x, spaceindex_y] = mat[changeindex_x, changeindex_y]\n",
    "                mat[changeindex_x, changeindex_y] = 9 \n",
    "    else:\n",
    "        print(\"輸入無效\")\n",
    "    \n",
    "    step = step+1\n",
    "    print(f\"第{step}步\")\n",
    "    print(mat)\n",
    "    \n",
    "    # mat 轉為list形式\n",
    "    mat = mat.reshape(9)\n",
    "    matlist = mat.tolist()\n",
    "\n",
    "if matlist != anslist:\n",
    "    print(\"離開\")    \n",
    "    \n",
    "if matlist == anslist:\n",
    "    print(\"恭喜過關!!!\")\n"
   ]
  },
  {
   "cell_type": "code",
   "execution_count": null,
   "metadata": {},
   "outputs": [],
   "source": []
  }
 ],
 "metadata": {
  "kernelspec": {
   "display_name": "Python 3",
   "language": "python",
   "name": "python3"
  },
  "language_info": {
   "codemirror_mode": {
    "name": "ipython",
    "version": 3
   },
   "file_extension": ".py",
   "mimetype": "text/x-python",
   "name": "python",
   "nbconvert_exporter": "python",
   "pygments_lexer": "ipython3",
   "version": "3.6.8"
  }
 },
 "nbformat": 4,
 "nbformat_minor": 2
}
