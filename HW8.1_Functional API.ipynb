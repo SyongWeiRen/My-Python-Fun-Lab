{
 "cells": [
  {
   "cell_type": "code",
   "execution_count": 58,
   "metadata": {},
   "outputs": [],
   "source": [
    "%matplotlib inline\n",
    "\n",
    "import numpy as np\n",
    "import matplotlib.pyplot as plt\n",
    "import pandas as pd\n",
    "\n",
    "from ipywidgets import interact, IntSlider, Button"
   ]
  },
  {
   "cell_type": "markdown",
   "metadata": {},
   "source": [
    "# 讀入 Keras 相關函數"
   ]
  },
  {
   "cell_type": "code",
   "execution_count": 59,
   "metadata": {},
   "outputs": [
    {
     "name": "stdout",
     "output_type": "stream",
     "text": [
      "env: KERAS_BACKEND=tensorflow\n"
     ]
    }
   ],
   "source": [
    "%env KERAS_BACKEND=tensorflow"
   ]
  },
  {
   "cell_type": "code",
   "execution_count": 73,
   "metadata": {},
   "outputs": [],
   "source": [
    "# Keras functions\n",
    "from keras.models import Sequential, Model\n",
    "from keras.layers import Dense, Activation, Input, concatenate, add\n",
    "from keras.optimizers import SGD\n",
    "\n",
    "# Keras dataset\n",
    "from keras.datasets import mnist\n",
    "\n",
    "# Keras utils\n",
    "from keras.utils import np_utils"
   ]
  },
  {
   "cell_type": "markdown",
   "metadata": {},
   "source": [
    "# 開始處理數據"
   ]
  },
  {
   "cell_type": "code",
   "execution_count": 61,
   "metadata": {},
   "outputs": [],
   "source": [
    "(x_train0, y_train0), (x_test0, y_test0) = mnist.load_data()"
   ]
  },
  {
   "cell_type": "code",
   "execution_count": 62,
   "metadata": {},
   "outputs": [
    {
     "name": "stdout",
     "output_type": "stream",
     "text": [
      "training data 共 60000 訓練資料，每筆資料的尺寸為 28 x 28\n",
      "testing data 共 10000 訓練資料，每筆資料的尺寸為 28 x 28\n"
     ]
    }
   ],
   "source": [
    "print(\"training data 共 %d 訓練資料，每筆資料的尺寸為 %d x %d\" %x_train0.shape)\n",
    "print(\"testing data 共 %d 訓練資料，每筆資料的尺寸為 %d x %d\" %x_test0.shape)"
   ]
  },
  {
   "cell_type": "markdown",
   "metadata": {},
   "source": [
    "## 1. 格式整理"
   ]
  },
  {
   "cell_type": "code",
   "execution_count": 63,
   "metadata": {},
   "outputs": [],
   "source": [
    "x_train = x_train0.reshape((x_train0.shape[0], x_train0.shape[1]*x_train0.shape[2]))\n",
    "x_test = x_test0.reshape((x_test0.shape[0], x_test0.shape[1]*x_test0.shape[2]))"
   ]
  },
  {
   "cell_type": "markdown",
   "metadata": {},
   "source": [
    "## 2. 資料歸一化。 "
   ]
  },
  {
   "cell_type": "code",
   "execution_count": 64,
   "metadata": {},
   "outputs": [],
   "source": [
    "x_train = x_train-x_train.min()\n",
    "x_train = x_train/x_train.max()\n",
    "\n",
    "x_test = x_test-x_test.min()\n",
    "x_test = x_test/x_test.max()"
   ]
  },
  {
   "cell_type": "code",
   "execution_count": 65,
   "metadata": {
    "scrolled": true
   },
   "outputs": [
    {
     "name": "stdout",
     "output_type": "stream",
     "text": [
      "0.0 1.0\n",
      "0.0 1.0\n"
     ]
    }
   ],
   "source": [
    "print(x_train.min(), x_train.max())\n",
    "print(x_test.min(), x_test.max())"
   ]
  },
  {
   "cell_type": "code",
   "execution_count": 66,
   "metadata": {},
   "outputs": [],
   "source": [
    "y_train = np_utils.to_categorical(y_train0, 10)\n",
    "y_test = np_utils.to_categorical(y_test0, 10)"
   ]
  },
  {
   "cell_type": "markdown",
   "metadata": {},
   "source": [
    "## 3. 建立函數"
   ]
  },
  {
   "cell_type": "markdown",
   "metadata": {},
   "source": [
    "### 神經網路架構圖"
   ]
  },
  {
   "cell_type": "markdown",
   "metadata": {},
   "source": [
    "![Network](Network.png)"
   ]
  },
  {
   "cell_type": "code",
   "execution_count": 67,
   "metadata": {},
   "outputs": [],
   "source": [
    "f_1 = Dense(100, activation='sigmoid')\n",
    "f_2 = Dense(100, activation='relu')\n",
    "f_3 = Dense(50, activation='sigmoid')\n",
    "f_4 = Dense(50, activation='relu')\n",
    "f_5 = Dense(50, activation='elu')\n",
    "f_6 = Dense(50, activation='tanh')\n",
    "f_7 = Dense(100, activation='elu')\n",
    "f_8 = Dense(100, activation='tanh')\n",
    "f_9 = Dense(10, activation='softmax')"
   ]
  },
  {
   "cell_type": "code",
   "execution_count": 68,
   "metadata": {},
   "outputs": [],
   "source": [
    "x = Input(shape=(784,))"
   ]
  },
  {
   "cell_type": "code",
   "execution_count": 69,
   "metadata": {},
   "outputs": [],
   "source": [
    "h_1 = f_1(x)\n",
    "h_2 = f_2(x)\n",
    "h_3 = f_3(h_1)\n",
    "h_4 = f_4(h_1)\n",
    "h_5 = f_5(h_2)\n",
    "h_6 = f_5(h_2)\n",
    "h_7 = f_7(h_3)\n",
    "h_8 = f_8(h_6)\n",
    "h_9 = concatenate([h_7, h_4, h_5, h_8])\n",
    "y = f_9(h_9)"
   ]
  },
  {
   "cell_type": "code",
   "execution_count": 70,
   "metadata": {
    "scrolled": true
   },
   "outputs": [
    {
     "name": "stdout",
     "output_type": "stream",
     "text": [
      "__________________________________________________________________________________________________\n",
      "Layer (type)                    Output Shape         Param #     Connected to                     \n",
      "==================================================================================================\n",
      "input_4 (InputLayer)            (None, 784)          0                                            \n",
      "__________________________________________________________________________________________________\n",
      "dense_28 (Dense)                (None, 100)          78500       input_4[0][0]                    \n",
      "__________________________________________________________________________________________________\n",
      "dense_29 (Dense)                (None, 100)          78500       input_4[0][0]                    \n",
      "__________________________________________________________________________________________________\n",
      "dense_30 (Dense)                (None, 50)           5050        dense_28[0][0]                   \n",
      "__________________________________________________________________________________________________\n",
      "dense_32 (Dense)                (None, 50)           5050        dense_29[0][0]                   \n",
      "                                                                 dense_29[0][0]                   \n",
      "__________________________________________________________________________________________________\n",
      "dense_34 (Dense)                (None, 100)          5100        dense_30[0][0]                   \n",
      "__________________________________________________________________________________________________\n",
      "dense_31 (Dense)                (None, 50)           5050        dense_28[0][0]                   \n",
      "__________________________________________________________________________________________________\n",
      "dense_35 (Dense)                (None, 100)          5100        dense_32[1][0]                   \n",
      "__________________________________________________________________________________________________\n",
      "concatenate_3 (Concatenate)     (None, 300)          0           dense_34[0][0]                   \n",
      "                                                                 dense_31[0][0]                   \n",
      "                                                                 dense_32[0][0]                   \n",
      "                                                                 dense_35[0][0]                   \n",
      "__________________________________________________________________________________________________\n",
      "dense_36 (Dense)                (None, 10)           3010        concatenate_3[0][0]              \n",
      "==================================================================================================\n",
      "Total params: 185,360\n",
      "Trainable params: 185,360\n",
      "Non-trainable params: 0\n",
      "__________________________________________________________________________________________________\n"
     ]
    }
   ],
   "source": [
    "model = Model(x, y)\n",
    "model.summary()"
   ]
  },
  {
   "cell_type": "markdown",
   "metadata": {},
   "source": [
    "## 4. 開始 training"
   ]
  },
  {
   "cell_type": "code",
   "execution_count": 71,
   "metadata": {},
   "outputs": [
    {
     "name": "stdout",
     "output_type": "stream",
     "text": [
      "Train on 60000 samples, validate on 10000 samples\n",
      "Epoch 1/50\n",
      "60000/60000 [==============================] - 6s 98us/step - loss: 0.3039 - acc: 0.9000 - val_loss: 0.2816 - val_acc: 0.9000\n",
      "Epoch 2/50\n",
      "60000/60000 [==============================] - 5s 76us/step - loss: 0.2570 - acc: 0.9030 - val_loss: 0.2296 - val_acc: 0.9087\n",
      "Epoch 3/50\n",
      "60000/60000 [==============================] - 4s 64us/step - loss: 0.2061 - acc: 0.9181 - val_loss: 0.1814 - val_acc: 0.9262\n",
      "Epoch 4/50\n",
      "60000/60000 [==============================] - 4s 67us/step - loss: 0.1643 - acc: 0.9339 - val_loss: 0.1452 - val_acc: 0.9434\n",
      "Epoch 5/50\n",
      "60000/60000 [==============================] - 4s 66us/step - loss: 0.1340 - acc: 0.9499 - val_loss: 0.1200 - val_acc: 0.9567\n",
      "Epoch 6/50\n",
      "60000/60000 [==============================] - 4s 63us/step - loss: 0.1132 - acc: 0.9604 - val_loss: 0.1029 - val_acc: 0.9651\n",
      "Epoch 7/50\n",
      "60000/60000 [==============================] - 4s 62us/step - loss: 0.0989 - acc: 0.9671 - val_loss: 0.0909 - val_acc: 0.9706\n",
      "Epoch 8/50\n",
      "60000/60000 [==============================] - 4s 63us/step - loss: 0.0888 - acc: 0.9713 - val_loss: 0.0824 - val_acc: 0.9740\n",
      "Epoch 9/50\n",
      "60000/60000 [==============================] - 4s 65us/step - loss: 0.0815 - acc: 0.9740 - val_loss: 0.0761 - val_acc: 0.9758\n",
      "Epoch 10/50\n",
      "60000/60000 [==============================] - 4s 66us/step - loss: 0.0759 - acc: 0.9757 - val_loss: 0.0712 - val_acc: 0.9772\n",
      "Epoch 11/50\n",
      "60000/60000 [==============================] - 4s 65us/step - loss: 0.0717 - acc: 0.9771 - val_loss: 0.0675 - val_acc: 0.9783\n",
      "Epoch 12/50\n",
      "60000/60000 [==============================] - 4s 66us/step - loss: 0.0683 - acc: 0.9781 - val_loss: 0.0645 - val_acc: 0.9791\n",
      "Epoch 13/50\n",
      "60000/60000 [==============================] - 4s 65us/step - loss: 0.0655 - acc: 0.9789 - val_loss: 0.0620 - val_acc: 0.9798\n",
      "Epoch 14/50\n",
      "60000/60000 [==============================] - 4s 66us/step - loss: 0.0632 - acc: 0.9796 - val_loss: 0.0600 - val_acc: 0.9805\n",
      "Epoch 15/50\n",
      "60000/60000 [==============================] - 4s 65us/step - loss: 0.0612 - acc: 0.9802 - val_loss: 0.0582 - val_acc: 0.9810\n",
      "Epoch 16/50\n",
      "60000/60000 [==============================] - 4s 65us/step - loss: 0.0595 - acc: 0.9807 - val_loss: 0.0566 - val_acc: 0.9814\n",
      "Epoch 17/50\n",
      "60000/60000 [==============================] - 4s 66us/step - loss: 0.0579 - acc: 0.9811 - val_loss: 0.0552 - val_acc: 0.9820\n",
      "Epoch 18/50\n",
      "60000/60000 [==============================] - 4s 67us/step - loss: 0.0566 - acc: 0.9816 - val_loss: 0.0540 - val_acc: 0.9822\n",
      "Epoch 19/50\n",
      "60000/60000 [==============================] - 4s 65us/step - loss: 0.0554 - acc: 0.9819 - val_loss: 0.0529 - val_acc: 0.9826\n",
      "Epoch 20/50\n",
      "60000/60000 [==============================] - 4s 69us/step - loss: 0.0543 - acc: 0.9823 - val_loss: 0.0519 - val_acc: 0.9829\n",
      "Epoch 21/50\n",
      "60000/60000 [==============================] - 4s 65us/step - loss: 0.0532 - acc: 0.9826 - val_loss: 0.0509 - val_acc: 0.9832\n",
      "Epoch 22/50\n",
      "60000/60000 [==============================] - 5s 76us/step - loss: 0.0522 - acc: 0.9829 - val_loss: 0.0500 - val_acc: 0.9835\n",
      "Epoch 23/50\n",
      "60000/60000 [==============================] - 5s 81us/step - loss: 0.0514 - acc: 0.9833 - val_loss: 0.0492 - val_acc: 0.9837\n",
      "Epoch 24/50\n",
      "60000/60000 [==============================] - 5s 78us/step - loss: 0.0505 - acc: 0.9835 - val_loss: 0.0484 - val_acc: 0.9841\n",
      "Epoch 25/50\n",
      "60000/60000 [==============================] - 4s 72us/step - loss: 0.0497 - acc: 0.9838 - val_loss: 0.0477 - val_acc: 0.9842\n",
      "Epoch 26/50\n",
      "60000/60000 [==============================] - 4s 72us/step - loss: 0.0490 - acc: 0.9840 - val_loss: 0.0470 - val_acc: 0.9845\n",
      "Epoch 27/50\n",
      "60000/60000 [==============================] - 4s 72us/step - loss: 0.0483 - acc: 0.9843 - val_loss: 0.0463 - val_acc: 0.9847\n",
      "Epoch 28/50\n",
      "60000/60000 [==============================] - 4s 72us/step - loss: 0.0476 - acc: 0.9845 - val_loss: 0.0458 - val_acc: 0.9849\n",
      "Epoch 29/50\n",
      "60000/60000 [==============================] - 4s 75us/step - loss: 0.0469 - acc: 0.9847 - val_loss: 0.0452 - val_acc: 0.9850\n",
      "Epoch 30/50\n",
      "60000/60000 [==============================] - 5s 82us/step - loss: 0.0463 - acc: 0.9849 - val_loss: 0.0446 - val_acc: 0.9853\n",
      "Epoch 31/50\n",
      "60000/60000 [==============================] - 5s 79us/step - loss: 0.0457 - acc: 0.9851 - val_loss: 0.0441 - val_acc: 0.9853\n",
      "Epoch 32/50\n",
      "60000/60000 [==============================] - 5s 86us/step - loss: 0.0451 - acc: 0.9853 - val_loss: 0.0435 - val_acc: 0.9856\n",
      "Epoch 33/50\n",
      "60000/60000 [==============================] - 5s 86us/step - loss: 0.0445 - acc: 0.9855 - val_loss: 0.0430 - val_acc: 0.9859\n",
      "Epoch 34/50\n",
      "60000/60000 [==============================] - 5s 81us/step - loss: 0.0440 - acc: 0.9857 - val_loss: 0.0425 - val_acc: 0.9859\n",
      "Epoch 35/50\n",
      "60000/60000 [==============================] - 5s 83us/step - loss: 0.0434 - acc: 0.9859 - val_loss: 0.0421 - val_acc: 0.9860\n",
      "Epoch 36/50\n",
      "60000/60000 [==============================] - 5s 87us/step - loss: 0.0429 - acc: 0.9861 - val_loss: 0.0415 - val_acc: 0.9862\n",
      "Epoch 37/50\n",
      "60000/60000 [==============================] - 5s 81us/step - loss: 0.0424 - acc: 0.9862 - val_loss: 0.0411 - val_acc: 0.9864\n",
      "Epoch 38/50\n",
      "60000/60000 [==============================] - 5s 86us/step - loss: 0.0419 - acc: 0.9864 - val_loss: 0.0406 - val_acc: 0.9864\n",
      "Epoch 39/50\n",
      "60000/60000 [==============================] - 5s 87us/step - loss: 0.0414 - acc: 0.9866 - val_loss: 0.0402 - val_acc: 0.9865\n",
      "Epoch 40/50\n",
      "60000/60000 [==============================] - 5s 84us/step - loss: 0.0410 - acc: 0.9867 - val_loss: 0.0398 - val_acc: 0.9868\n",
      "Epoch 41/50\n",
      "60000/60000 [==============================] - 5s 80us/step - loss: 0.0405 - acc: 0.9869 - val_loss: 0.0394 - val_acc: 0.9868\n",
      "Epoch 42/50\n",
      "60000/60000 [==============================] - 5s 77us/step - loss: 0.0401 - acc: 0.9871 - val_loss: 0.0390 - val_acc: 0.9870\n",
      "Epoch 43/50\n",
      "60000/60000 [==============================] - 5s 82us/step - loss: 0.0396 - acc: 0.9872 - val_loss: 0.0386 - val_acc: 0.9871\n",
      "Epoch 44/50\n",
      "60000/60000 [==============================] - 5s 81us/step - loss: 0.0392 - acc: 0.9874 - val_loss: 0.0382 - val_acc: 0.9872\n",
      "Epoch 45/50\n",
      "60000/60000 [==============================] - 5s 83us/step - loss: 0.0388 - acc: 0.9875 - val_loss: 0.0378 - val_acc: 0.9873\n",
      "Epoch 46/50\n",
      "60000/60000 [==============================] - 5s 80us/step - loss: 0.0384 - acc: 0.9876 - val_loss: 0.0375 - val_acc: 0.9873\n",
      "Epoch 47/50\n",
      "60000/60000 [==============================] - 5s 90us/step - loss: 0.0380 - acc: 0.9878 - val_loss: 0.0371 - val_acc: 0.9875\n",
      "Epoch 48/50\n",
      "60000/60000 [==============================] - 6s 105us/step - loss: 0.0376 - acc: 0.9879 - val_loss: 0.0368 - val_acc: 0.9875\n",
      "Epoch 49/50\n",
      "60000/60000 [==============================] - 5s 78us/step - loss: 0.0372 - acc: 0.9881 - val_loss: 0.0365 - val_acc: 0.9875\n",
      "Epoch 50/50\n",
      "60000/60000 [==============================] - 5s 83us/step - loss: 0.0368 - acc: 0.9882 - val_loss: 0.0361 - val_acc: 0.9879\n"
     ]
    }
   ],
   "source": [
    "model.compile(loss='binary_crossentropy', optimizer=SGD(lr=0.01), metrics=['accuracy'])\n",
    "X = model.fit(x_train, y_train, batch_size=100, epochs=50, verbose=1, validation_data=(x_test, y_test))"
   ]
  },
  {
   "cell_type": "markdown",
   "metadata": {},
   "source": [
    "## 畫圖"
   ]
  },
  {
   "cell_type": "code",
   "execution_count": 72,
   "metadata": {},
   "outputs": [
    {
     "data": {
      "text/plain": [
       "Text(0, 0.5, 'accuracy')"
      ]
     },
     "execution_count": 72,
     "metadata": {},
     "output_type": "execute_result"
    },
    {
     "data": {
      "image/png": "[encoded data removed]",
      "text/plain": [
       "<Figure size 432x288 with 1 Axes>"
      ]
     },
     "metadata": {
      "needs_background": "light"
     },
     "output_type": "display_data"
    }
   ],
   "source": [
    "plt.plot(X.history['acc'])\n",
    "plt.title('model training accuracy')\n",
    "plt.xlabel('epoch')\n",
    "plt.ylabel('accuracy')"
   ]
  },
  {
   "cell_type": "code",
   "execution_count": null,
   "metadata": {},
   "outputs": [],
   "source": []
  }
 ],
 "metadata": {
  "kernelspec": {
   "display_name": "Python 3",
   "language": "python",
   "name": "python3"
  },
  "language_info": {
   "codemirror_mode": {
    "name": "ipython",
    "version": 3
   },
   "file_extension": ".py",
   "mimetype": "text/x-python",
   "name": "python",
   "nbconvert_exporter": "python",
   "pygments_lexer": "ipython3",
   "version": "3.6.8"
  }
 },
 "nbformat": 4,
 "nbformat_minor": 2
}
