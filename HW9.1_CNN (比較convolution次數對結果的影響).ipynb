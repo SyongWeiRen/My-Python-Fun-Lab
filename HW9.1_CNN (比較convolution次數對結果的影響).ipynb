{
 "cells": [
  {
   "cell_type": "code",
   "execution_count": 67,
   "metadata": {
    "scrolled": true
   },
   "outputs": [
    {
     "name": "stdout",
     "output_type": "stream",
     "text": [
      "env: KERAS_BACKEND=tensorflow\n"
     ]
    }
   ],
   "source": [
    "%env KERAS_BACKEND=tensorflow"
   ]
  },
  {
   "cell_type": "code",
   "execution_count": 68,
   "metadata": {},
   "outputs": [],
   "source": [
    "%matplotlib inline\n",
    "\n",
    "import numpy as np\n",
    "import matplotlib.pyplot as plt\n",
    "import pandas as pd"
   ]
  },
  {
   "cell_type": "markdown",
   "metadata": {},
   "source": [
    "# 1.讀入MNIST數據"
   ]
  },
  {
   "cell_type": "code",
   "execution_count": 69,
   "metadata": {},
   "outputs": [],
   "source": [
    "from keras.datasets import mnist"
   ]
  },
  {
   "cell_type": "code",
   "execution_count": 70,
   "metadata": {},
   "outputs": [],
   "source": [
    "(x_train0, y_train0),(x_test0, y_test0) = mnist.load_data()"
   ]
  },
  {
   "cell_type": "markdown",
   "metadata": {},
   "source": [
    "# 2.格式整理"
   ]
  },
  {
   "cell_type": "markdown",
   "metadata": {},
   "source": [
    "## 輸入數據"
   ]
  },
  {
   "cell_type": "code",
   "execution_count": 71,
   "metadata": {},
   "outputs": [
    {
     "name": "stdout",
     "output_type": "stream",
     "text": [
      "0.0 1.0\n",
      "0.0 1.0\n",
      "(28, 28, 1)\n",
      "(28, 28, 1)\n"
     ]
    }
   ],
   "source": [
    "x_train = x_train0.reshape(x_train0.shape[0], x_train0.shape[1], x_train0.shape[2], 1)\n",
    "x_test = x_test0.reshape(x_test0.shape[0], x_test0.shape[1], x_test0.shape[2], 1)\n",
    "\n",
    "# 歸一化\n",
    "x_train = x_train-x_train.min()\n",
    "x_train = x_train/x_train.max()\n",
    "x_test = x_test-x_test.min()\n",
    "x_test = x_test/x_test.max()\n",
    "print(x_train.min(), x_train.max())\n",
    "print(x_test.min(), x_test.max())\n",
    "\n",
    "# 確認格式\n",
    "print(x_train[100].shape)\n",
    "print(x_test[100].shape)"
   ]
  },
  {
   "cell_type": "markdown",
   "metadata": {},
   "source": [
    "## 輸出數據"
   ]
  },
  {
   "cell_type": "code",
   "execution_count": 72,
   "metadata": {},
   "outputs": [],
   "source": [
    "from keras.utils import np_utils"
   ]
  },
  {
   "cell_type": "code",
   "execution_count": 73,
   "metadata": {},
   "outputs": [
    {
     "data": {
      "text/plain": [
       "array([0., 0., 0., 0., 0., 1., 0., 0., 0., 0.], dtype=float32)"
      ]
     },
     "execution_count": 73,
     "metadata": {},
     "output_type": "execute_result"
    }
   ],
   "source": [
    "y_train = np_utils.to_categorical(y_train0, 10)\n",
    "y_test = np_utils.to_categorical(y_test0, 10)\n",
    "\n",
    "# 確認數據\n",
    "y_train[100]"
   ]
  },
  {
   "cell_type": "markdown",
   "metadata": {},
   "source": [
    "# 3.建構CNN"
   ]
  },
  {
   "cell_type": "code",
   "execution_count": 74,
   "metadata": {},
   "outputs": [],
   "source": [
    "from keras.models import Sequential\n",
    "from keras.layers import Dense, Activation, Flatten\n",
    "from keras.layers import Conv2D, MaxPool2D\n",
    "from keras.optimizers import SGD"
   ]
  },
  {
   "cell_type": "markdown",
   "metadata": {},
   "source": [
    "## 建立 model_0 ( convolution 個數 = 2)"
   ]
  },
  {
   "cell_type": "markdown",
   "metadata": {},
   "source": [
    "* 老師上課說一般神經網路convolution須大於等於3，因此嘗試若convolution個數只有2的情況"
   ]
  },
  {
   "cell_type": "code",
   "execution_count": 101,
   "metadata": {},
   "outputs": [],
   "source": [
    "model_0 = Sequential()"
   ]
  },
  {
   "cell_type": "code",
   "execution_count": 102,
   "metadata": {},
   "outputs": [],
   "source": [
    "# 第一次convolution\n",
    "model_0.add(Conv2D(4, (5, 5), padding='same', input_shape=(28, 28, 1)))\n",
    "model_0.add(Activation('relu'))\n",
    "\n",
    "model_0.add(MaxPool2D(pool_size=(2, 2)))\n",
    "\n",
    "# 第二次convolution\n",
    "model_0.add(Conv2D(8, (5, 5), padding='same'))\n",
    "model_0.add(Activation('relu'))\n",
    "\n",
    "model_0.add(MaxPool2D(pool_size=(2, 2)))\n",
    "\n",
    "# 送進 NN (為了拉平)\n",
    "model_0.add(Flatten())\n",
    "model_0.add(Dense(9))\n",
    "model_0.add(Activation('relu'))\n",
    "\n",
    "# output\n",
    "model_0.add(Dense(10))\n",
    "model_0.add(Activation('softmax'))"
   ]
  },
  {
   "cell_type": "code",
   "execution_count": 103,
   "metadata": {},
   "outputs": [],
   "source": [
    "model_0.compile(loss='mse', optimizer=SGD(lr=0.1), metrics=['accuracy'])"
   ]
  },
  {
   "cell_type": "code",
   "execution_count": 104,
   "metadata": {},
   "outputs": [
    {
     "name": "stdout",
     "output_type": "stream",
     "text": [
      "_________________________________________________________________\n",
      "Layer (type)                 Output Shape              Param #   \n",
      "=================================================================\n",
      "conv2d_61 (Conv2D)           (None, 28, 28, 4)         104       \n",
      "_________________________________________________________________\n",
      "activation_87 (Activation)   (None, 28, 28, 4)         0         \n",
      "_________________________________________________________________\n",
      "max_pooling2d_59 (MaxPooling (None, 14, 14, 4)         0         \n",
      "_________________________________________________________________\n",
      "conv2d_62 (Conv2D)           (None, 14, 14, 8)         808       \n",
      "_________________________________________________________________\n",
      "activation_88 (Activation)   (None, 14, 14, 8)         0         \n",
      "_________________________________________________________________\n",
      "max_pooling2d_60 (MaxPooling (None, 7, 7, 8)           0         \n",
      "_________________________________________________________________\n",
      "flatten_15 (Flatten)         (None, 392)               0         \n",
      "_________________________________________________________________\n",
      "dense_29 (Dense)             (None, 9)                 3537      \n",
      "_________________________________________________________________\n",
      "activation_89 (Activation)   (None, 9)                 0         \n",
      "_________________________________________________________________\n",
      "dense_30 (Dense)             (None, 10)                100       \n",
      "_________________________________________________________________\n",
      "activation_90 (Activation)   (None, 10)                0         \n",
      "=================================================================\n",
      "Total params: 4,549\n",
      "Trainable params: 4,549\n",
      "Non-trainable params: 0\n",
      "_________________________________________________________________\n"
     ]
    }
   ],
   "source": [
    "model_0.summary()"
   ]
  },
  {
   "cell_type": "code",
   "execution_count": 105,
   "metadata": {
    "scrolled": false
   },
   "outputs": [
    {
     "name": "stdout",
     "output_type": "stream",
     "text": [
      "Epoch 1/20\n",
      "60000/60000 [==============================] - 56s 931us/step - loss: 0.0898 - acc: 0.1300\n",
      "Epoch 2/20\n",
      "60000/60000 [==============================] - 57s 956us/step - loss: 0.0861 - acc: 0.2472\n",
      "Epoch 3/20\n",
      "60000/60000 [==============================] - 57s 948us/step - loss: 0.0748 - acc: 0.39530s - loss: 0.0749 - acc: \n",
      "Epoch 4/20\n",
      "60000/60000 [==============================] - 57s 950us/step - loss: 0.0638 - acc: 0.4664\n",
      "Epoch 5/20\n",
      "60000/60000 [==============================] - 59s 985us/step - loss: 0.0564 - acc: 0.52456s - loss\n",
      "Epoch 6/20\n",
      "60000/60000 [==============================] - 56s 934us/step - loss: 0.0493 - acc: 0.5822\n",
      "Epoch 7/20\n",
      "60000/60000 [==============================] - 44s 730us/step - loss: 0.0463 - acc: 0.6225\n",
      "Epoch 8/20\n",
      "60000/60000 [==============================] - 44s 730us/step - loss: 0.0444 - acc: 0.6412\n",
      "Epoch 9/20\n",
      "60000/60000 [==============================] - 45s 751us/step - loss: 0.0428 - acc: 0.6535\n",
      "Epoch 10/20\n",
      "60000/60000 [==============================] - 45s 750us/step - loss: 0.0410 - acc: 0.6745\n",
      "Epoch 11/20\n",
      "60000/60000 [==============================] - 45s 744us/step - loss: 0.0373 - acc: 0.7258\n",
      "Epoch 12/20\n",
      "60000/60000 [==============================] - 44s 741us/step - loss: 0.0326 - acc: 0.7705\n",
      "Epoch 13/20\n",
      "60000/60000 [==============================] - 45s 743us/step - loss: 0.0296 - acc: 0.7921\n",
      "Epoch 14/20\n",
      "60000/60000 [==============================] - 49s 810us/step - loss: 0.0275 - acc: 0.8068\n",
      "Epoch 15/20\n",
      "60000/60000 [==============================] - 45s 747us/step - loss: 0.0260 - acc: 0.8159\n",
      "Epoch 16/20\n",
      "60000/60000 [==============================] - 45s 744us/step - loss: 0.0247 - acc: 0.8228\n",
      "Epoch 17/20\n",
      "60000/60000 [==============================] - 45s 745us/step - loss: 0.0235 - acc: 0.8275\n",
      "Epoch 18/20\n",
      "60000/60000 [==============================] - 44s 741us/step - loss: 0.0219 - acc: 0.8374\n",
      "Epoch 19/20\n",
      "60000/60000 [==============================] - 45s 747us/step - loss: 0.0205 - acc: 0.8662\n",
      "Epoch 20/20\n",
      "60000/60000 [==============================] - 51s 847us/step - loss: 0.0189 - acc: 0.9151\n"
     ]
    }
   ],
   "source": [
    "X0 = model_0.fit(x_train, y_train, batch_size=100, epochs=20)"
   ]
  },
  {
   "cell_type": "markdown",
   "metadata": {},
   "source": [
    "## 建立 model_1 ( convolution 個數 = 3)"
   ]
  },
  {
   "cell_type": "code",
   "execution_count": 94,
   "metadata": {},
   "outputs": [],
   "source": [
    "model_1 = Sequential()"
   ]
  },
  {
   "cell_type": "code",
   "execution_count": 95,
   "metadata": {},
   "outputs": [],
   "source": [
    "# 第一次convolution\n",
    "model_1.add(Conv2D(4, (5, 5), padding='same', input_shape=(28, 28, 1)))\n",
    "model_1.add(Activation('relu'))\n",
    "\n",
    "model_1.add(MaxPool2D(pool_size=(2, 2)))\n",
    "\n",
    "# 第二次convolution\n",
    "model_1.add(Conv2D(8, (5, 5), padding='same'))\n",
    "model_1.add(Activation('relu'))\n",
    "\n",
    "model_1.add(MaxPool2D(pool_size=(2, 2)))\n",
    "\n",
    "# 第三次convolution\n",
    "model_1.add(Conv2D(16, (5, 5), padding='same'))\n",
    "model_1.add(Activation('relu'))\n",
    "\n",
    "model_1.add(MaxPool2D(pool_size=(2, 2)))\n",
    "\n",
    "# 送進 NN (為了拉平)\n",
    "model_1.add(Flatten())\n",
    "model_1.add(Dense(9))\n",
    "model_1.add(Activation('relu'))\n",
    "\n",
    "# output\n",
    "model_1.add(Dense(10))\n",
    "model_1.add(Activation('softmax'))"
   ]
  },
  {
   "cell_type": "code",
   "execution_count": 97,
   "metadata": {},
   "outputs": [],
   "source": [
    "model_1.compile(loss='mse', optimizer=SGD(lr=0.1), metrics=['accuracy'])"
   ]
  },
  {
   "cell_type": "code",
   "execution_count": 98,
   "metadata": {},
   "outputs": [
    {
     "name": "stdout",
     "output_type": "stream",
     "text": [
      "_________________________________________________________________\n",
      "Layer (type)                 Output Shape              Param #   \n",
      "=================================================================\n",
      "conv2d_58 (Conv2D)           (None, 28, 28, 4)         104       \n",
      "_________________________________________________________________\n",
      "activation_82 (Activation)   (None, 28, 28, 4)         0         \n",
      "_________________________________________________________________\n",
      "max_pooling2d_56 (MaxPooling (None, 14, 14, 4)         0         \n",
      "_________________________________________________________________\n",
      "conv2d_59 (Conv2D)           (None, 14, 14, 8)         808       \n",
      "_________________________________________________________________\n",
      "activation_83 (Activation)   (None, 14, 14, 8)         0         \n",
      "_________________________________________________________________\n",
      "max_pooling2d_57 (MaxPooling (None, 7, 7, 8)           0         \n",
      "_________________________________________________________________\n",
      "conv2d_60 (Conv2D)           (None, 7, 7, 16)          3216      \n",
      "_________________________________________________________________\n",
      "activation_84 (Activation)   (None, 7, 7, 16)          0         \n",
      "_________________________________________________________________\n",
      "max_pooling2d_58 (MaxPooling (None, 3, 3, 16)          0         \n",
      "_________________________________________________________________\n",
      "flatten_14 (Flatten)         (None, 144)               0         \n",
      "_________________________________________________________________\n",
      "dense_27 (Dense)             (None, 9)                 1305      \n",
      "_________________________________________________________________\n",
      "activation_85 (Activation)   (None, 9)                 0         \n",
      "_________________________________________________________________\n",
      "dense_28 (Dense)             (None, 10)                100       \n",
      "_________________________________________________________________\n",
      "activation_86 (Activation)   (None, 10)                0         \n",
      "=================================================================\n",
      "Total params: 5,533\n",
      "Trainable params: 5,533\n",
      "Non-trainable params: 0\n",
      "_________________________________________________________________\n"
     ]
    }
   ],
   "source": [
    "model_1.summary()"
   ]
  },
  {
   "cell_type": "code",
   "execution_count": 99,
   "metadata": {
    "scrolled": true
   },
   "outputs": [
    {
     "name": "stdout",
     "output_type": "stream",
     "text": [
      "Epoch 1/20\n",
      "60000/60000 [==============================] - 51s 842us/step - loss: 0.0897 - acc: 0.16212s\n",
      "Epoch 2/20\n",
      "60000/60000 [==============================] - 58s 962us/step - loss: 0.0888 - acc: 0.2064\n",
      "Epoch 3/20\n",
      "60000/60000 [==============================] - 57s 946us/step - loss: 0.0818 - acc: 0.2507\n",
      "Epoch 4/20\n",
      "60000/60000 [==============================] - 52s 866us/step - loss: 0.0661 - acc: 0.4544\n",
      "Epoch 5/20\n",
      "60000/60000 [==============================] - 53s 887us/step - loss: 0.0448 - acc: 0.68111s - loss: 0\n",
      "Epoch 6/20\n",
      "60000/60000 [==============================] - 59s 979us/step - loss: 0.0301 - acc: 0.8218\n",
      "Epoch 7/20\n",
      "60000/60000 [==============================] - 53s 883us/step - loss: 0.0246 - acc: 0.8702\n",
      "Epoch 8/20\n",
      "60000/60000 [==============================] - 50s 840us/step - loss: 0.0219 - acc: 0.8920\n",
      "Epoch 9/20\n",
      "60000/60000 [==============================] - 50s 831us/step - loss: 0.0199 - acc: 0.9049\n",
      "Epoch 10/20\n",
      "60000/60000 [==============================] - 52s 860us/step - loss: 0.0185 - acc: 0.91341s - loss: 0.0185 - - ETA: 0s - loss: 0.0185 - ac\n",
      "Epoch 11/20\n",
      "60000/60000 [==============================] - 50s 836us/step - loss: 0.0171 - acc: 0.9215\n",
      "Epoch 12/20\n",
      "60000/60000 [==============================] - 50s 837us/step - loss: 0.0157 - acc: 0.9273\n",
      "Epoch 13/20\n",
      "60000/60000 [==============================] - 50s 838us/step - loss: 0.0129 - acc: 0.93093s - loss: 0 - ETA: 1s - loss: 0\n",
      "Epoch 14/20\n",
      "60000/60000 [==============================] - 53s 879us/step - loss: 0.0102 - acc: 0.9360\n",
      "Epoch 15/20\n",
      "60000/60000 [==============================] - 50s 838us/step - loss: 0.0093 - acc: 0.9413\n",
      "Epoch 16/20\n",
      "60000/60000 [==============================] - 50s 839us/step - loss: 0.0087 - acc: 0.9445\n",
      "Epoch 17/20\n",
      "60000/60000 [==============================] - 50s 830us/step - loss: 0.0083 - acc: 0.9470\n",
      "Epoch 18/20\n",
      "60000/60000 [==============================] - 51s 855us/step - loss: 0.0079 - acc: 0.9486\n",
      "Epoch 19/20\n",
      "60000/60000 [==============================] - 51s 849us/step - loss: 0.0075 - acc: 0.9519\n",
      "Epoch 20/20\n",
      "60000/60000 [==============================] - 51s 853us/step - loss: 0.0073 - acc: 0.9533\n"
     ]
    }
   ],
   "source": [
    "X1 = model_1.fit(x_train, y_train, batch_size=100, epochs=20)"
   ]
  },
  {
   "cell_type": "markdown",
   "metadata": {},
   "source": [
    "## 建立 model_2 ( convolution 個數 = 4)"
   ]
  },
  {
   "cell_type": "code",
   "execution_count": 107,
   "metadata": {},
   "outputs": [],
   "source": [
    "model_2 = Sequential()"
   ]
  },
  {
   "cell_type": "code",
   "execution_count": 108,
   "metadata": {},
   "outputs": [],
   "source": [
    "# 第一次convolution\n",
    "model_2.add(Conv2D(4, (5, 5), padding='same', input_shape=(28, 28, 1)))\n",
    "model_2.add(Activation('relu'))\n",
    "\n",
    "model_2.add(MaxPool2D(pool_size=(2, 2)))\n",
    "\n",
    "# 第二次convolution\n",
    "model_2.add(Conv2D(8, (5, 5), padding='same'))\n",
    "model_2.add(Activation('relu'))\n",
    "\n",
    "model_2.add(MaxPool2D(pool_size=(2, 2)))\n",
    "\n",
    "# 第三次convolution\n",
    "model_2.add(Conv2D(16, (5, 5), padding='same'))\n",
    "model_2.add(Activation('relu'))\n",
    "\n",
    "model_2.add(MaxPool2D(pool_size=(2, 2)))\n",
    "\n",
    "# 第四次convolution\n",
    "model_2.add(Conv2D(32, (5, 5), padding='same'))\n",
    "model_2.add(Activation('relu'))\n",
    "\n",
    "model_2.add(MaxPool2D(pool_size=(2, 2)))\n",
    "\n",
    "\n",
    "# 送進 NN (為了拉平)\n",
    "model_2.add(Flatten())\n",
    "model_2.add(Dense(9))\n",
    "model_2.add(Activation('relu'))\n",
    "\n",
    "# output\n",
    "model_2.add(Dense(10))\n",
    "model_2.add(Activation('softmax'))"
   ]
  },
  {
   "cell_type": "code",
   "execution_count": 109,
   "metadata": {},
   "outputs": [],
   "source": [
    "model_2.compile(loss='mse', optimizer=SGD(lr=0.1), metrics=['accuracy'])"
   ]
  },
  {
   "cell_type": "code",
   "execution_count": 110,
   "metadata": {},
   "outputs": [
    {
     "name": "stdout",
     "output_type": "stream",
     "text": [
      "_________________________________________________________________\n",
      "Layer (type)                 Output Shape              Param #   \n",
      "=================================================================\n",
      "conv2d_63 (Conv2D)           (None, 28, 28, 4)         104       \n",
      "_________________________________________________________________\n",
      "activation_91 (Activation)   (None, 28, 28, 4)         0         \n",
      "_________________________________________________________________\n",
      "max_pooling2d_61 (MaxPooling (None, 14, 14, 4)         0         \n",
      "_________________________________________________________________\n",
      "conv2d_64 (Conv2D)           (None, 14, 14, 8)         808       \n",
      "_________________________________________________________________\n",
      "activation_92 (Activation)   (None, 14, 14, 8)         0         \n",
      "_________________________________________________________________\n",
      "max_pooling2d_62 (MaxPooling (None, 7, 7, 8)           0         \n",
      "_________________________________________________________________\n",
      "conv2d_65 (Conv2D)           (None, 7, 7, 16)          3216      \n",
      "_________________________________________________________________\n",
      "activation_93 (Activation)   (None, 7, 7, 16)          0         \n",
      "_________________________________________________________________\n",
      "max_pooling2d_63 (MaxPooling (None, 3, 3, 16)          0         \n",
      "_________________________________________________________________\n",
      "conv2d_66 (Conv2D)           (None, 3, 3, 32)          12832     \n",
      "_________________________________________________________________\n",
      "activation_94 (Activation)   (None, 3, 3, 32)          0         \n",
      "_________________________________________________________________\n",
      "max_pooling2d_64 (MaxPooling (None, 1, 1, 32)          0         \n",
      "_________________________________________________________________\n",
      "flatten_16 (Flatten)         (None, 32)                0         \n",
      "_________________________________________________________________\n",
      "dense_31 (Dense)             (None, 9)                 297       \n",
      "_________________________________________________________________\n",
      "activation_95 (Activation)   (None, 9)                 0         \n",
      "_________________________________________________________________\n",
      "dense_32 (Dense)             (None, 10)                100       \n",
      "_________________________________________________________________\n",
      "activation_96 (Activation)   (None, 10)                0         \n",
      "=================================================================\n",
      "Total params: 17,357\n",
      "Trainable params: 17,357\n",
      "Non-trainable params: 0\n",
      "_________________________________________________________________\n"
     ]
    }
   ],
   "source": [
    "model_2.summary()"
   ]
  },
  {
   "cell_type": "code",
   "execution_count": 111,
   "metadata": {},
   "outputs": [
    {
     "name": "stdout",
     "output_type": "stream",
     "text": [
      "Epoch 1/20\n",
      "60000/60000 [==============================] - 57s 942us/step - loss: 0.0899 - acc: 0.1477\n",
      "Epoch 2/20\n",
      "60000/60000 [==============================] - 49s 817us/step - loss: 0.0898 - acc: 0.1883\n",
      "Epoch 3/20\n",
      "60000/60000 [==============================] - 45s 743us/step - loss: 0.0893 - acc: 0.2064\n",
      "Epoch 4/20\n",
      "60000/60000 [==============================] - 44s 741us/step - loss: 0.0873 - acc: 0.2258\n",
      "Epoch 5/20\n",
      "60000/60000 [==============================] - 48s 807us/step - loss: 0.0719 - acc: 0.38461s - loss: 0.0\n",
      "Epoch 6/20\n",
      "60000/60000 [==============================] - 47s 784us/step - loss: 0.0406 - acc: 0.7194\n",
      "Epoch 7/20\n",
      "60000/60000 [==============================] - 47s 789us/step - loss: 0.0240 - acc: 0.8378\n",
      "Epoch 8/20\n",
      "60000/60000 [==============================] - 46s 773us/step - loss: 0.0146 - acc: 0.9055\n",
      "Epoch 9/20\n",
      "60000/60000 [==============================] - 48s 797us/step - loss: 0.0112 - acc: 0.9277\n",
      "Epoch 10/20\n",
      "60000/60000 [==============================] - 47s 783us/step - loss: 0.0095 - acc: 0.9389\n",
      "Epoch 11/20\n",
      "60000/60000 [==============================] - 52s 861us/step - loss: 0.0086 - acc: 0.9444\n",
      "Epoch 12/20\n",
      "60000/60000 [==============================] - 46s 774us/step - loss: 0.0078 - acc: 0.9491\n",
      "Epoch 13/20\n",
      "60000/60000 [==============================] - 48s 796us/step - loss: 0.0072 - acc: 0.9537\n",
      "Epoch 14/20\n",
      "60000/60000 [==============================] - 48s 800us/step - loss: 0.0067 - acc: 0.9562\n",
      "Epoch 15/20\n",
      "60000/60000 [==============================] - 49s 820us/step - loss: 0.0063 - acc: 0.9595\n",
      "Epoch 16/20\n",
      "60000/60000 [==============================] - 47s 781us/step - loss: 0.0060 - acc: 0.9611\n",
      "Epoch 17/20\n",
      "60000/60000 [==============================] - 47s 788us/step - loss: 0.0058 - acc: 0.9630\n",
      "Epoch 18/20\n",
      "60000/60000 [==============================] - 48s 796us/step - loss: 0.0054 - acc: 0.9649\n",
      "Epoch 19/20\n",
      "60000/60000 [==============================] - 46s 775us/step - loss: 0.0052 - acc: 0.9663\n",
      "Epoch 20/20\n",
      "60000/60000 [==============================] - 46s 772us/step - loss: 0.0050 - acc: 0.9679\n"
     ]
    }
   ],
   "source": [
    "X2 = model_2.fit(x_train, y_train, batch_size=100, epochs=20)"
   ]
  },
  {
   "cell_type": "markdown",
   "metadata": {},
   "source": [
    "# 畫圖比較 accuracy"
   ]
  },
  {
   "cell_type": "code",
   "execution_count": 113,
   "metadata": {
    "scrolled": true
   },
   "outputs": [
    {
     "data": {
      "image/png": "[encoded data removed]",
      "text/plain": [
       "<Figure size 432x288 with 1 Axes>"
      ]
     },
     "metadata": {
      "needs_background": "light"
     },
     "output_type": "display_data"
    }
   ],
   "source": [
    "plt.plot(X0.history[\"acc\"])\n",
    "plt.plot(X1.history[\"acc\"])\n",
    "plt.plot(X2.history[\"acc\"])\n",
    "\n",
    "plt.title(\"model training accuracy\")\n",
    "plt.ylabel(\"accuracy\")\n",
    "plt.xlabel(\"epoch\")\n",
    "plt.legend([\"convolution = 2\", \"convolution = 3\", \"convolution = 4\"], loc = \"best\")\n",
    "plt.show()"
   ]
  },
  {
   "cell_type": "markdown",
   "metadata": {},
   "source": [
    "# 心得"
   ]
  },
  {
   "cell_type": "markdown",
   "metadata": {},
   "source": [
    "* 雖然老師上課說一般的神經網路的 convolution 需大於等於 3 ，但由結果可看到在同樣 20 個 epoch 雖然 convolution = 2 的正確率比其他 convolution 較大的情況低，但依然有 90% 以上。\n",
    "* 由結果可以看到 convoltion 越多時，在 20個 epoch 後正確率提高了。\n",
    "* 由結果也可以分辨確實 convolution = 2 的正確率上升情況確實與其他兩種期況不同。"
   ]
  },
  {
   "cell_type": "code",
   "execution_count": null,
   "metadata": {},
   "outputs": [],
   "source": []
  }
 ],
 "metadata": {
  "kernelspec": {
   "display_name": "Python 3",
   "language": "python",
   "name": "python3"
  },
  "language_info": {
   "codemirror_mode": {
    "name": "ipython",
    "version": 3
   },
   "file_extension": ".py",
   "mimetype": "text/x-python",
   "name": "python",
   "nbconvert_exporter": "python",
   "pygments_lexer": "ipython3",
   "version": "3.6.8"
  }
 },
 "nbformat": 4,
 "nbformat_minor": 2
}
