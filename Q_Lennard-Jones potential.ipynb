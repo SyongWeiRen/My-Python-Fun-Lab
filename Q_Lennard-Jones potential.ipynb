{
 "cells": [
  {
   "cell_type": "code",
   "execution_count": 1,
   "metadata": {},
   "outputs": [],
   "source": [
    "%matplotlib inline\n",
    "\n",
    "import numpy as np\n",
    "import matplotlib.pyplot as plt\n",
    "import pandas as pd"
   ]
  },
  {
   "cell_type": "markdown",
   "metadata": {},
   "source": [
    "# 驗證Lennard-Jones potential的最低點是落在r = r0的位置"
   ]
  },
  {
   "cell_type": "code",
   "execution_count": 2,
   "metadata": {},
   "outputs": [],
   "source": [
    "# 輸入constant\n",
    "Ep0 = 1\n",
    "r0 = 1\n",
    "\n",
    "# create the Lennard-Jones potential\n",
    "def LJ(x):\n",
    "    return Ep0*((r0/x)**(12)-2*(r0/x)**(6))"
   ]
  },
  {
   "cell_type": "markdown",
   "metadata": {},
   "source": [
    "# Gradient Descent"
   ]
  },
  {
   "cell_type": "code",
   "execution_count": 3,
   "metadata": {
    "scrolled": true
   },
   "outputs": [
    {
     "name": "stdout",
     "output_type": "stream",
     "text": [
      "誤差[0.39366476]%\n",
      "平均半徑為[1.00393665]個r0\n"
     ]
    },
    {
     "data": {
      "image/png": "[encoded data removed]",
      "text/plain": [
       "<Figure size 432x288 with 1 Axes>"
      ]
     },
     "metadata": {
      "needs_background": "light"
     },
     "output_type": "display_data"
    }
   ],
   "source": [
    "r = np.linspace(0.5, 2, 100)\n",
    "Ep = LJ(r)\n",
    "\n",
    "# 畫背景值\n",
    "plt.plot(r, Ep)\n",
    "plt.xlabel(\"r\")\n",
    "plt.ylabel(\"Ep\")\n",
    "plt.xlim(0.7, 2)\n",
    "plt.ylim(-1.2, 1.2)\n",
    "\n",
    "# 產生起始點(讓取值在0~10之間)\n",
    "r_start = np.random.random(1)*10\n",
    "r_R = r_start+0.001\n",
    "r_L = r_start-0.001\n",
    "Ep_R = LJ(r_R)\n",
    "Ep_L = LJ(r_L)\n",
    "\n",
    "err = 1\n",
    "while err > 0.01:\n",
    "    \n",
    "    # 取斜率\n",
    "    slope = (Ep_R-Ep_L)/(r_R-r_L)\n",
    "    \n",
    "    # 設learning rate\n",
    "    # 除以abs(slope)的原因為期望接近最低點(斜率會變緩)時移動距離變短\n",
    "    η = 0.01/abs(slope)\n",
    "    \n",
    "    # 移動初始點\n",
    "    r_move = r_start-η*slope\n",
    "    Ep_move = LJ(r_move)\n",
    "    \n",
    "    # 標註移動後的點\n",
    "    plt.scatter(r_move, Ep_move)\n",
    "    \n",
    "    # 將移動後的點設為下一次的初始點\n",
    "    r_start = r_move   \n",
    "    Ep_start = Ep_move\n",
    "    r_R = r_start+0.001\n",
    "    r_L = r_start-0.001\n",
    "    Ep_R = LJ(r_R)\n",
    "    Ep_L = LJ(r_L)\n",
    "    \n",
    "    err = abs(r_start-r0)/r0\n",
    "print(f\"誤差{err*100}%\")\n",
    "print(f\"平均半徑為{r_start}個r0\")"
   ]
  },
  {
   "cell_type": "markdown",
   "metadata": {},
   "source": [
    "# 分析\n",
    "* 確實對於Lennard-Jones potential的最小值發生在r = r0\n",
    "* 利用η = 0.01/abs(slope)能有效的使移動的點接近目標點時會減小移動的距離"
   ]
  },
  {
   "cell_type": "code",
   "execution_count": null,
   "metadata": {},
   "outputs": [],
   "source": []
  }
 ],
 "metadata": {
  "kernelspec": {
   "display_name": "Python 3",
   "language": "python",
   "name": "python3"
  },
  "language_info": {
   "codemirror_mode": {
    "name": "ipython",
    "version": 3
   },
   "file_extension": ".py",
   "mimetype": "text/x-python",
   "name": "python",
   "nbconvert_exporter": "python",
   "pygments_lexer": "ipython3",
   "version": "3.6.8"
  }
 },
 "nbformat": 4,
 "nbformat_minor": 2
}
