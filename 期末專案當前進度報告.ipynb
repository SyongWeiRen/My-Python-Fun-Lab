{
 "cells": [
  {
   "cell_type": "markdown",
   "metadata": {},
   "source": [
    "# 組員：\n",
    "   1. 葉昱辰 (組長)\n",
    "   2. 熊偉仁\n",
    "   3. 康云瀞"
   ]
  },
  {
   "cell_type": "markdown",
   "metadata": {},
   "source": [
    "# 主題：對四種白血球的分類"
   ]
  },
  {
   "cell_type": "markdown",
   "metadata": {},
   "source": [
    "# 介紹："
   ]
  },
  {
   "cell_type": "markdown",
   "metadata": {},
   "source": [
    "* 人體中的白血球數目與血液疾病之間存在密切的關係，而白血球中又分為四種不同的血球細胞。\n",
    "* 基於血液疾病的診斷通常涉及患者血液樣本，若能快速有效的判別血球種類將有利未來醫學上的應用。\n",
    "* 本專案為針對四種白血球細胞進行分類(細胞類型有嗜酸性粒細胞、淋巴細胞、單核細胞、中性粒細胞)。"
   ]
  },
  {
   "cell_type": "markdown",
   "metadata": {},
   "source": [
    "# 實作方法"
   ]
  },
  {
   "cell_type": "markdown",
   "metadata": {},
   "source": [
    "1. 將 data 從 https://www.kaggle.com/paultimothymooney/blood-cells 下載下來。\n",
    "2. 利用 openCV 套件將圖片檔匯入，並拆成 training data 和 testing data，對其進行資料前處理。\n",
    "3. 試圖找到一個良好的 CNN 圖像辨識神經網絡，判別 4 種不同白血球細胞。\n",
    "4. 在結果的呈現上，以互動式介面製作一個選單能夠選擇 4 種種類細胞，並利用滑桿秀出該種類的所有分類過的圖片。"
   ]
  },
  {
   "cell_type": "markdown",
   "metadata": {},
   "source": [
    "# 專案排程"
   ]
  },
  {
   "cell_type": "markdown",
   "metadata": {},
   "source": [
    "* 5/15 前 - 下載資料並對數據進行前處理\n",
    "* 5/24 前 - 建立神經網絡並試圖提高正確率\n",
    "* 5/31 前 - 建立互動式介面\n",
    "* 6/05 前 - 結果討論及美化專案"
   ]
  },
  {
   "cell_type": "markdown",
   "metadata": {},
   "source": [
    "# 目前進度"
   ]
  },
  {
   "cell_type": "markdown",
   "metadata": {},
   "source": [
    "一切都在計畫中(目前正在建立互動式介面的階段)"
   ]
  },
  {
   "cell_type": "markdown",
   "metadata": {},
   "source": [
    "# 未來應用"
   ]
  },
  {
   "cell_type": "markdown",
   "metadata": {},
   "source": [
    "在過去，由於四種白血球在圖像上並沒有顯著的差異，因此對血球種類的辨識需耗費相當多的人力以及資源。\n",
    "<br> 若未來此程式能與醫療儀器做結合，能夠一系列的完成觀測血球樣本並立即做出分析，將能提升疾病的診對正確率以及耗費的成本。"
   ]
  },
  {
   "cell_type": "code",
   "execution_count": null,
   "metadata": {},
   "outputs": [],
   "source": []
  }
 ],
 "metadata": {
  "kernelspec": {
   "display_name": "Python 3",
   "language": "python",
   "name": "python3"
  },
  "language_info": {
   "codemirror_mode": {
    "name": "ipython",
    "version": 3
   },
   "file_extension": ".py",
   "mimetype": "text/x-python",
   "name": "python",
   "nbconvert_exporter": "python",
   "pygments_lexer": "ipython3",
   "version": "3.6.8"
  }
 },
 "nbformat": 4,
 "nbformat_minor": 2
}
