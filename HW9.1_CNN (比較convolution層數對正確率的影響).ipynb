{
 "cells": [
  {
   "cell_type": "code",
   "execution_count": 1,
   "metadata": {
    "scrolled": true
   },
   "outputs": [
    {
     "name": "stdout",
     "output_type": "stream",
     "text": [
      "env: KERAS_BACKEND=tensorflow\n"
     ]
    }
   ],
   "source": [
    "%env KERAS_BACKEND=tensorflow"
   ]
  },
  {
   "cell_type": "code",
   "execution_count": 2,
   "metadata": {},
   "outputs": [],
   "source": [
    "%matplotlib inline\n",
    "\n",
    "import numpy as np\n",
    "import matplotlib.pyplot as plt\n",
    "import pandas as pd"
   ]
  },
  {
   "cell_type": "markdown",
   "metadata": {},
   "source": [
    "# 1.讀入MNIST數據"
   ]
  },
  {
   "cell_type": "code",
   "execution_count": 3,
   "metadata": {},
   "outputs": [
    {
     "name": "stderr",
     "output_type": "stream",
     "text": [
      "Using TensorFlow backend.\n"
     ]
    }
   ],
   "source": [
    "from keras.datasets import mnist"
   ]
  },
  {
   "cell_type": "code",
   "execution_count": 4,
   "metadata": {},
   "outputs": [],
   "source": [
    "(x_train0, y_train0),(x_test0, y_test0) = mnist.load_data()"
   ]
  },
  {
   "cell_type": "markdown",
   "metadata": {},
   "source": [
    "# 2.格式整理"
   ]
  },
  {
   "cell_type": "markdown",
   "metadata": {},
   "source": [
    "## 輸入數據"
   ]
  },
  {
   "cell_type": "code",
   "execution_count": 5,
   "metadata": {},
   "outputs": [
    {
     "name": "stdout",
     "output_type": "stream",
     "text": [
      "0.0 1.0\n",
      "0.0 1.0\n",
      "(28, 28, 1)\n",
      "(28, 28, 1)\n"
     ]
    }
   ],
   "source": [
    "x_train = x_train0.reshape(x_train0.shape[0], x_train0.shape[1], x_train0.shape[2], 1)\n",
    "x_test = x_test0.reshape(x_test0.shape[0], x_test0.shape[1], x_test0.shape[2], 1)\n",
    "\n",
    "# 歸一化\n",
    "x_train = x_train-x_train.min()\n",
    "x_train = x_train/x_train.max()\n",
    "x_test = x_test-x_test.min()\n",
    "x_test = x_test/x_test.max()\n",
    "print(x_train.min(), x_train.max())\n",
    "print(x_test.min(), x_test.max())\n",
    "\n",
    "# 確認格式\n",
    "print(x_train[100].shape)\n",
    "print(x_test[100].shape)"
   ]
  },
  {
   "cell_type": "markdown",
   "metadata": {},
   "source": [
    "## 輸出數據"
   ]
  },
  {
   "cell_type": "code",
   "execution_count": 6,
   "metadata": {},
   "outputs": [],
   "source": [
    "from keras.utils import np_utils"
   ]
  },
  {
   "cell_type": "code",
   "execution_count": 7,
   "metadata": {},
   "outputs": [
    {
     "data": {
      "text/plain": [
       "array([0., 0., 0., 0., 0., 1., 0., 0., 0., 0.], dtype=float32)"
      ]
     },
     "execution_count": 7,
     "metadata": {},
     "output_type": "execute_result"
    }
   ],
   "source": [
    "y_train = np_utils.to_categorical(y_train0, 10)\n",
    "y_test = np_utils.to_categorical(y_test0, 10)\n",
    "\n",
    "# 確認數據\n",
    "y_train[100]"
   ]
  },
  {
   "cell_type": "markdown",
   "metadata": {},
   "source": [
    "# 3.建構CNN"
   ]
  },
  {
   "cell_type": "code",
   "execution_count": 8,
   "metadata": {},
   "outputs": [],
   "source": [
    "from keras.models import Sequential\n",
    "from keras.layers import Dense, Activation, Flatten\n",
    "from keras.layers import Conv2D, MaxPool2D\n",
    "from keras.optimizers import SGD"
   ]
  },
  {
   "cell_type": "markdown",
   "metadata": {},
   "source": [
    "## 建立 model_0 ( convolution block 層數= 2)"
   ]
  },
  {
   "cell_type": "markdown",
   "metadata": {},
   "source": [
    "* 老師上課說一般神經網路convolution須大於等於3，因此嘗試若convolution個數只有2的情況"
   ]
  },
  {
   "cell_type": "code",
   "execution_count": 9,
   "metadata": {},
   "outputs": [],
   "source": [
    "model_0 = Sequential()"
   ]
  },
  {
   "cell_type": "code",
   "execution_count": 10,
   "metadata": {},
   "outputs": [],
   "source": [
    "# 第一次convolution\n",
    "model_0.add(Conv2D(4, (5, 5), padding='same', input_shape=(28, 28, 1)))\n",
    "model_0.add(Activation('relu'))\n",
    "\n",
    "model_0.add(MaxPool2D(pool_size=(2, 2)))\n",
    "\n",
    "# 第二次convolution\n",
    "model_0.add(Conv2D(8, (5, 5), padding='same'))\n",
    "model_0.add(Activation('relu'))\n",
    "\n",
    "model_0.add(MaxPool2D(pool_size=(2, 2)))\n",
    "\n",
    "# 送進 NN (為了拉平)\n",
    "model_0.add(Flatten())\n",
    "model_0.add(Dense(9))\n",
    "model_0.add(Activation('relu'))\n",
    "\n",
    "# output\n",
    "model_0.add(Dense(10))\n",
    "model_0.add(Activation('softmax'))"
   ]
  },
  {
   "cell_type": "code",
   "execution_count": 11,
   "metadata": {},
   "outputs": [],
   "source": [
    "model_0.compile(loss='mse', optimizer=SGD(lr=0.1), metrics=['accuracy'])"
   ]
  },
  {
   "cell_type": "code",
   "execution_count": 12,
   "metadata": {},
   "outputs": [
    {
     "name": "stdout",
     "output_type": "stream",
     "text": [
      "_________________________________________________________________\n",
      "Layer (type)                 Output Shape              Param #   \n",
      "=================================================================\n",
      "conv2d_1 (Conv2D)            (None, 28, 28, 4)         104       \n",
      "_________________________________________________________________\n",
      "activation_1 (Activation)    (None, 28, 28, 4)         0         \n",
      "_________________________________________________________________\n",
      "max_pooling2d_1 (MaxPooling2 (None, 14, 14, 4)         0         \n",
      "_________________________________________________________________\n",
      "conv2d_2 (Conv2D)            (None, 14, 14, 8)         808       \n",
      "_________________________________________________________________\n",
      "activation_2 (Activation)    (None, 14, 14, 8)         0         \n",
      "_________________________________________________________________\n",
      "max_pooling2d_2 (MaxPooling2 (None, 7, 7, 8)           0         \n",
      "_________________________________________________________________\n",
      "flatten_1 (Flatten)          (None, 392)               0         \n",
      "_________________________________________________________________\n",
      "dense_1 (Dense)              (None, 9)                 3537      \n",
      "_________________________________________________________________\n",
      "activation_3 (Activation)    (None, 9)                 0         \n",
      "_________________________________________________________________\n",
      "dense_2 (Dense)              (None, 10)                100       \n",
      "_________________________________________________________________\n",
      "activation_4 (Activation)    (None, 10)                0         \n",
      "=================================================================\n",
      "Total params: 4,549\n",
      "Trainable params: 4,549\n",
      "Non-trainable params: 0\n",
      "_________________________________________________________________\n"
     ]
    }
   ],
   "source": [
    "model_0.summary()"
   ]
  },
  {
   "cell_type": "code",
   "execution_count": 13,
   "metadata": {
    "scrolled": false
   },
   "outputs": [
    {
     "name": "stdout",
     "output_type": "stream",
     "text": [
      "Epoch 1/50\n",
      "60000/60000 [==============================] - 66s 1ms/step - loss: 0.0882 - acc: 0.2003\n",
      "Epoch 2/50\n",
      "60000/60000 [==============================] - 37s 614us/step - loss: 0.0672 - acc: 0.4849\n",
      "Epoch 3/50\n",
      "60000/60000 [==============================] - 35s 585us/step - loss: 0.0339 - acc: 0.77100s - loss: 0.0340 - acc: 0.\n",
      "Epoch 4/50\n",
      "60000/60000 [==============================] - 36s 596us/step - loss: 0.0213 - acc: 0.86164s - loss: 0.0216 - acc: 0.859 - E\n",
      "Epoch 5/50\n",
      "60000/60000 [==============================] - 35s 589us/step - loss: 0.0160 - acc: 0.8967\n",
      "Epoch 6/50\n",
      "60000/60000 [==============================] - 36s 594us/step - loss: 0.0133 - acc: 0.91453s - loss:  - ET\n",
      "Epoch 7/50\n",
      "60000/60000 [==============================] - 36s 599us/step - loss: 0.0114 - acc: 0.9255\n",
      "Epoch 8/50\n",
      "60000/60000 [==============================] - 36s 608us/step - loss: 0.0102 - acc: 0.9341\n",
      "Epoch 9/50\n",
      "60000/60000 [==============================] - 36s 606us/step - loss: 0.0092 - acc: 0.9412\n",
      "Epoch 10/50\n",
      "60000/60000 [==============================] - 36s 604us/step - loss: 0.0084 - acc: 0.94640s - loss: 0.0084 - acc: 0.946 - ETA: 0s - loss: 0.0084 - acc: 0. - ETA: 0s - loss: 0.0084 - acc: 0.9\n",
      "Epoch 11/50\n",
      "60000/60000 [==============================] - 36s 606us/step - loss: 0.0078 - acc: 0.9498\n",
      "Epoch 12/50\n",
      "60000/60000 [==============================] - 36s 608us/step - loss: 0.0073 - acc: 0.95341s - l\n",
      "Epoch 13/50\n",
      "60000/60000 [==============================] - 37s 610us/step - loss: 0.0069 - acc: 0.95561s - loss: 0. - ETA: 0s - loss: 0.0069 - ac\n",
      "Epoch 14/50\n",
      "60000/60000 [==============================] - 36s 605us/step - loss: 0.0065 - acc: 0.95830s - loss: 0.0065 - a\n",
      "Epoch 15/50\n",
      "60000/60000 [==============================] - 36s 606us/step - loss: 0.0062 - acc: 0.9603\n",
      "Epoch 16/50\n",
      "60000/60000 [==============================] - 37s 621us/step - loss: 0.0059 - acc: 0.9624: 0s - loss: 0.0059 -  - ETA: 0s - loss: 0.0059 - acc: 0\n",
      "Epoch 17/50\n",
      "60000/60000 [==============================] - 37s 615us/step - loss: 0.0057 - acc: 0.96331s - loss: \n",
      "Epoch 18/50\n",
      "60000/60000 [==============================] - 37s 618us/step - loss: 0.0055 - acc: 0.9652\n",
      "Epoch 19/50\n",
      "60000/60000 [==============================] - 38s 632us/step - loss: 0.0053 - acc: 0.9660- ETA: 6s - loss: 0.0053 -  - ET - ETA: 1s - lo\n",
      "Epoch 20/50\n",
      "60000/60000 [==============================] - 38s 631us/step - loss: 0.0051 - acc: 0.96769s \n",
      "Epoch 21/50\n",
      "60000/60000 [==============================] - 38s 631us/step - loss: 0.0050 - acc: 0.9686\n",
      "Epoch 22/50\n",
      "60000/60000 [==============================] - 38s 626us/step - loss: 0.0048 - acc: 0.96941s - lo\n",
      "Epoch 23/50\n",
      "60000/60000 [==============================] - 38s 629us/step - loss: 0.0047 - acc: 0.9703\n",
      "Epoch 24/50\n",
      "60000/60000 [==============================] - 37s 618us/step - loss: 0.0046 - acc: 0.97110s - loss: 0.0046 - a\n",
      "Epoch 25/50\n",
      "60000/60000 [==============================] - 37s 612us/step - loss: 0.0044 - acc: 0.97191s - loss: 0.0044 - acc - ETA: 1s - loss: 0.0\n",
      "Epoch 26/50\n",
      "60000/60000 [==============================] - 37s 615us/step - loss: 0.0044 - acc: 0.97252s - loss: 0.0044 - acc:  - ETA: 1s\n",
      "Epoch 27/50\n",
      "60000/60000 [==============================] - 37s 618us/step - loss: 0.0043 - acc: 0.97284s - loss:  - ETA: 3s - loss: 0.00\n",
      "Epoch 28/50\n",
      "60000/60000 [==============================] - 37s 618us/step - loss: 0.0041 - acc: 0.9744\n",
      "Epoch 29/50\n",
      "60000/60000 [==============================] - 38s 628us/step - loss: 0.0041 - acc: 0.9742 - ETA: 6s - loss: 0.0041 - acc: 0.974 - ETA: 6s - loss: 0.0041 - acc - ETA: 6s - loss: 0.0041 -  - ETA: 5s - loss: 0.0041 -  -\n",
      "Epoch 30/50\n",
      "60000/60000 [==============================] - 38s 625us/step - loss: 0.0040 - acc: 0.97472s - loss:  - ETA: 1s - loss: 0\n",
      "Epoch 31/50\n",
      "60000/60000 [==============================] - 38s 636us/step - loss: 0.0039 - acc: 0.97500s - loss: 0.0039 - acc: \n",
      "Epoch 32/50\n",
      "60000/60000 [==============================] - 38s 636us/step - loss: 0.0039 - acc: 0.97576s - loss: 0\n",
      "Epoch 33/50\n",
      "60000/60000 [==============================] - 38s 635us/step - loss: 0.0038 - acc: 0.97620s - loss: 0.003\n",
      "Epoch 34/50\n",
      "60000/60000 [==============================] - 38s 636us/step - loss: 0.0037 - acc: 0.9770\n",
      "Epoch 35/50\n",
      "60000/60000 [==============================] - 38s 639us/step - loss: 0.0037 - acc: 0.9768\n",
      "Epoch 36/50\n",
      "60000/60000 [==============================] - 38s 641us/step - loss: 0.0036 - acc: 0.97751s - \n",
      "Epoch 37/50\n",
      "60000/60000 [==============================] - 39s 644us/step - loss: 0.0036 - acc: 0.9780\n",
      "Epoch 38/50\n",
      "60000/60000 [==============================] - 39s 643us/step - loss: 0.0035 - acc: 0.9780\n",
      "Epoch 39/50\n",
      "60000/60000 [==============================] - 39s 645us/step - loss: 0.0035 - acc: 0.9781\n",
      "Epoch 40/50\n",
      "60000/60000 [==============================] - 39s 643us/step - loss: 0.0035 - acc: 0.9787\n",
      "Epoch 41/50\n",
      "60000/60000 [==============================] - 39s 657us/step - loss: 0.0034 - acc: 0.97871s - loss: 0.\n",
      "Epoch 42/50\n",
      "60000/60000 [==============================] - 39s 643us/step - loss: 0.0034 - acc: 0.9793\n",
      "Epoch 43/50\n",
      "60000/60000 [==============================] - 39s 645us/step - loss: 0.0033 - acc: 0.9799\n",
      "Epoch 44/50\n",
      "60000/60000 [==============================] - 39s 645us/step - loss: 0.0033 - acc: 0.9797\n",
      "Epoch 45/50\n",
      "60000/60000 [==============================] - 39s 647us/step - loss: 0.0032 - acc: 0.97991s\n",
      "Epoch 46/50\n",
      "60000/60000 [==============================] - 39s 647us/step - loss: 0.0032 - acc: 0.9805\n",
      "Epoch 47/50\n",
      "60000/60000 [==============================] - 39s 647us/step - loss: 0.0032 - acc: 0.9805\n",
      "Epoch 48/50\n",
      "60000/60000 [==============================] - 39s 646us/step - loss: 0.0031 - acc: 0.9805\n",
      "Epoch 49/50\n",
      "60000/60000 [==============================] - 39s 649us/step - loss: 0.0031 - acc: 0.98113s - loss: 0.0030 - - E\n",
      "Epoch 50/50\n",
      "60000/60000 [==============================] - 39s 650us/step - loss: 0.0031 - acc: 0.9812\n"
     ]
    }
   ],
   "source": [
    "X0 = model_0.fit(x_train, y_train, batch_size=100, epochs=50)"
   ]
  },
  {
   "cell_type": "markdown",
   "metadata": {},
   "source": [
    "## 建立 model_1 ( convolution block層數 = 3)"
   ]
  },
  {
   "cell_type": "code",
   "execution_count": 14,
   "metadata": {},
   "outputs": [],
   "source": [
    "model_1 = Sequential()"
   ]
  },
  {
   "cell_type": "code",
   "execution_count": 15,
   "metadata": {},
   "outputs": [],
   "source": [
    "# 第一次convolution\n",
    "model_1.add(Conv2D(4, (5, 5), padding='same', input_shape=(28, 28, 1)))\n",
    "model_1.add(Activation('relu'))\n",
    "\n",
    "model_1.add(MaxPool2D(pool_size=(2, 2)))\n",
    "\n",
    "# 第二次convolution\n",
    "model_1.add(Conv2D(8, (5, 5), padding='same'))\n",
    "model_1.add(Activation('relu'))\n",
    "\n",
    "model_1.add(MaxPool2D(pool_size=(2, 2)))\n",
    "\n",
    "# 第三次convolution\n",
    "model_1.add(Conv2D(16, (5, 5), padding='same'))\n",
    "model_1.add(Activation('relu'))\n",
    "\n",
    "model_1.add(MaxPool2D(pool_size=(2, 2)))\n",
    "\n",
    "# 送進 NN (為了拉平)\n",
    "model_1.add(Flatten())\n",
    "model_1.add(Dense(9))\n",
    "model_1.add(Activation('relu'))\n",
    "\n",
    "# output\n",
    "model_1.add(Dense(10))\n",
    "model_1.add(Activation('softmax'))"
   ]
  },
  {
   "cell_type": "code",
   "execution_count": 16,
   "metadata": {},
   "outputs": [],
   "source": [
    "model_1.compile(loss='mse', optimizer=SGD(lr=0.1), metrics=['accuracy'])"
   ]
  },
  {
   "cell_type": "code",
   "execution_count": 17,
   "metadata": {},
   "outputs": [
    {
     "name": "stdout",
     "output_type": "stream",
     "text": [
      "_________________________________________________________________\n",
      "Layer (type)                 Output Shape              Param #   \n",
      "=================================================================\n",
      "conv2d_3 (Conv2D)            (None, 28, 28, 4)         104       \n",
      "_________________________________________________________________\n",
      "activation_5 (Activation)    (None, 28, 28, 4)         0         \n",
      "_________________________________________________________________\n",
      "max_pooling2d_3 (MaxPooling2 (None, 14, 14, 4)         0         \n",
      "_________________________________________________________________\n",
      "conv2d_4 (Conv2D)            (None, 14, 14, 8)         808       \n",
      "_________________________________________________________________\n",
      "activation_6 (Activation)    (None, 14, 14, 8)         0         \n",
      "_________________________________________________________________\n",
      "max_pooling2d_4 (MaxPooling2 (None, 7, 7, 8)           0         \n",
      "_________________________________________________________________\n",
      "conv2d_5 (Conv2D)            (None, 7, 7, 16)          3216      \n",
      "_________________________________________________________________\n",
      "activation_7 (Activation)    (None, 7, 7, 16)          0         \n",
      "_________________________________________________________________\n",
      "max_pooling2d_5 (MaxPooling2 (None, 3, 3, 16)          0         \n",
      "_________________________________________________________________\n",
      "flatten_2 (Flatten)          (None, 144)               0         \n",
      "_________________________________________________________________\n",
      "dense_3 (Dense)              (None, 9)                 1305      \n",
      "_________________________________________________________________\n",
      "activation_8 (Activation)    (None, 9)                 0         \n",
      "_________________________________________________________________\n",
      "dense_4 (Dense)              (None, 10)                100       \n",
      "_________________________________________________________________\n",
      "activation_9 (Activation)    (None, 10)                0         \n",
      "=================================================================\n",
      "Total params: 5,533\n",
      "Trainable params: 5,533\n",
      "Non-trainable params: 0\n",
      "_________________________________________________________________\n"
     ]
    }
   ],
   "source": [
    "model_1.summary()"
   ]
  },
  {
   "cell_type": "code",
   "execution_count": 18,
   "metadata": {
    "scrolled": true
   },
   "outputs": [
    {
     "name": "stdout",
     "output_type": "stream",
     "text": [
      "Epoch 1/50\n",
      "60000/60000 [==============================] - 41s 677us/step - loss: 0.0896 - acc: 0.1022\n",
      "Epoch 2/50\n",
      "60000/60000 [==============================] - 40s 673us/step - loss: 0.0874 - acc: 0.1619\n",
      "Epoch 3/50\n",
      "60000/60000 [==============================] - 40s 675us/step - loss: 0.0749 - acc: 0.3929\n",
      "Epoch 4/50\n",
      "60000/60000 [==============================] - 41s 676us/step - loss: 0.0462 - acc: 0.6679\n",
      "Epoch 5/50\n",
      "60000/60000 [==============================] - 40s 675us/step - loss: 0.0236 - acc: 0.8450\n",
      "Epoch 6/50\n",
      "60000/60000 [==============================] - 41s 676us/step - loss: 0.0172 - acc: 0.8868\n",
      "Epoch 7/50\n",
      "60000/60000 [==============================] - 40s 674us/step - loss: 0.0143 - acc: 0.9072\n",
      "Epoch 8/50\n",
      "60000/60000 [==============================] - 40s 674us/step - loss: 0.0124 - acc: 0.9189\n",
      "Epoch 9/50\n",
      "60000/60000 [==============================] - 41s 675us/step - loss: 0.0109 - acc: 0.9287\n",
      "Epoch 10/50\n",
      "60000/60000 [==============================] - 40s 674us/step - loss: 0.0099 - acc: 0.9356\n",
      "Epoch 11/50\n",
      "60000/60000 [==============================] - 41s 684us/step - loss: 0.0091 - acc: 0.9408\n",
      "Epoch 12/50\n",
      "60000/60000 [==============================] - 41s 686us/step - loss: 0.0084 - acc: 0.9458\n",
      "Epoch 13/50\n",
      "60000/60000 [==============================] - 41s 684us/step - loss: 0.0079 - acc: 0.9492\n",
      "Epoch 14/50\n",
      "60000/60000 [==============================] - 41s 684us/step - loss: 0.0074 - acc: 0.9520\n",
      "Epoch 15/50\n",
      "60000/60000 [==============================] - 41s 689us/step - loss: 0.0070 - acc: 0.9546\n",
      "Epoch 16/50\n",
      "60000/60000 [==============================] - 41s 688us/step - loss: 0.0067 - acc: 0.9565\n",
      "Epoch 17/50\n",
      "60000/60000 [==============================] - 41s 691us/step - loss: 0.0063 - acc: 0.9599\n",
      "Epoch 18/50\n",
      "60000/60000 [==============================] - 41s 690us/step - loss: 0.0061 - acc: 0.96111s - loss\n",
      "Epoch 19/50\n",
      "60000/60000 [==============================] - 41s 690us/step - loss: 0.0058 - acc: 0.9620\n",
      "Epoch 20/50\n",
      "60000/60000 [==============================] - 41s 690us/step - loss: 0.0056 - acc: 0.9640\n",
      "Epoch 21/50\n",
      "60000/60000 [==============================] - 41s 690us/step - loss: 0.0054 - acc: 0.9647\n",
      "Epoch 22/50\n",
      "60000/60000 [==============================] - 41s 689us/step - loss: 0.0053 - acc: 0.9656\n",
      "Epoch 23/50\n",
      "60000/60000 [==============================] - 42s 692us/step - loss: 0.0051 - acc: 0.9678\n",
      "Epoch 24/50\n",
      "60000/60000 [==============================] - 42s 692us/step - loss: 0.0050 - acc: 0.9684\n",
      "Epoch 25/50\n",
      "60000/60000 [==============================] - 41s 691us/step - loss: 0.0049 - acc: 0.9683\n",
      "Epoch 26/50\n",
      "60000/60000 [==============================] - 42s 694us/step - loss: 0.0047 - acc: 0.9706\n",
      "Epoch 27/50\n",
      "60000/60000 [==============================] - 42s 694us/step - loss: 0.0046 - acc: 0.9708\n",
      "Epoch 28/50\n",
      "60000/60000 [==============================] - 42s 701us/step - loss: 0.0045 - acc: 0.9712\n",
      "Epoch 29/50\n",
      "60000/60000 [==============================] - 42s 706us/step - loss: 0.0044 - acc: 0.9722\n",
      "Epoch 30/50\n",
      "60000/60000 [==============================] - 42s 695us/step - loss: 0.0043 - acc: 0.9719\n",
      "Epoch 31/50\n",
      "60000/60000 [==============================] - 42s 694us/step - loss: 0.0042 - acc: 0.9726\n",
      "Epoch 32/50\n",
      "60000/60000 [==============================] - 42s 696us/step - loss: 0.0041 - acc: 0.9736\n",
      "Epoch 33/50\n",
      "60000/60000 [==============================] - 42s 697us/step - loss: 0.0040 - acc: 0.9745\n",
      "Epoch 34/50\n",
      "60000/60000 [==============================] - 42s 696us/step - loss: 0.0040 - acc: 0.9750\n",
      "Epoch 35/50\n",
      "60000/60000 [==============================] - 42s 701us/step - loss: 0.0039 - acc: 0.9757\n",
      "Epoch 36/50\n",
      "60000/60000 [==============================] - 42s 701us/step - loss: 0.0038 - acc: 0.9759\n",
      "Epoch 37/50\n",
      "60000/60000 [==============================] - 42s 696us/step - loss: 0.0037 - acc: 0.9765\n",
      "Epoch 38/50\n",
      "60000/60000 [==============================] - 42s 698us/step - loss: 0.0037 - acc: 0.9771\n",
      "Epoch 39/50\n",
      "60000/60000 [==============================] - 42s 697us/step - loss: 0.0036 - acc: 0.9770\n",
      "Epoch 40/50\n",
      "60000/60000 [==============================] - 43s 709us/step - loss: 0.0035 - acc: 0.9775\n",
      "Epoch 41/50\n",
      "60000/60000 [==============================] - 43s 716us/step - loss: 0.0035 - acc: 0.9778\n",
      "Epoch 42/50\n",
      "60000/60000 [==============================] - 42s 698us/step - loss: 0.0034 - acc: 0.9783\n",
      "Epoch 43/50\n",
      "60000/60000 [==============================] - 43s 709us/step - loss: 0.0034 - acc: 0.9783\n",
      "Epoch 44/50\n",
      "60000/60000 [==============================] - 42s 699us/step - loss: 0.0033 - acc: 0.9789\n",
      "Epoch 45/50\n",
      "60000/60000 [==============================] - 42s 698us/step - loss: 0.0033 - acc: 0.9795\n",
      "Epoch 46/50\n",
      "60000/60000 [==============================] - 42s 698us/step - loss: 0.0033 - acc: 0.9791\n",
      "Epoch 47/50\n",
      "60000/60000 [==============================] - 42s 699us/step - loss: 0.0032 - acc: 0.9799\n",
      "Epoch 48/50\n",
      "60000/60000 [==============================] - 42s 700us/step - loss: 0.0031 - acc: 0.9805\n",
      "Epoch 49/50\n",
      "60000/60000 [==============================] - 42s 699us/step - loss: 0.0031 - acc: 0.9805\n",
      "Epoch 50/50\n",
      "60000/60000 [==============================] - 42s 699us/step - loss: 0.0031 - acc: 0.9811\n"
     ]
    }
   ],
   "source": [
    "X1 = model_1.fit(x_train, y_train, batch_size=100, epochs=50)"
   ]
  },
  {
   "cell_type": "markdown",
   "metadata": {},
   "source": [
    "## 建立 model_2 ( convolution block層數 = 4)"
   ]
  },
  {
   "cell_type": "code",
   "execution_count": 19,
   "metadata": {},
   "outputs": [],
   "source": [
    "model_2 = Sequential()"
   ]
  },
  {
   "cell_type": "code",
   "execution_count": 20,
   "metadata": {},
   "outputs": [],
   "source": [
    "# 第一次convolution\n",
    "model_2.add(Conv2D(4, (5, 5), padding='same', input_shape=(28, 28, 1)))\n",
    "model_2.add(Activation('relu'))\n",
    "\n",
    "model_2.add(MaxPool2D(pool_size=(2, 2)))\n",
    "\n",
    "# 第二次convolution\n",
    "model_2.add(Conv2D(8, (5, 5), padding='same'))\n",
    "model_2.add(Activation('relu'))\n",
    "\n",
    "model_2.add(MaxPool2D(pool_size=(2, 2)))\n",
    "\n",
    "# 第三次convolution\n",
    "model_2.add(Conv2D(16, (5, 5), padding='same'))\n",
    "model_2.add(Activation('relu'))\n",
    "\n",
    "model_2.add(MaxPool2D(pool_size=(2, 2)))\n",
    "\n",
    "# 第四次convolution\n",
    "model_2.add(Conv2D(32, (5, 5), padding='same'))\n",
    "model_2.add(Activation('relu'))\n",
    "\n",
    "model_2.add(MaxPool2D(pool_size=(2, 2)))\n",
    "\n",
    "\n",
    "# 送進 NN (為了拉平)\n",
    "model_2.add(Flatten())\n",
    "model_2.add(Dense(9))\n",
    "model_2.add(Activation('relu'))\n",
    "\n",
    "# output\n",
    "model_2.add(Dense(10))\n",
    "model_2.add(Activation('softmax'))"
   ]
  },
  {
   "cell_type": "code",
   "execution_count": 21,
   "metadata": {},
   "outputs": [],
   "source": [
    "model_2.compile(loss='mse', optimizer=SGD(lr=0.1), metrics=['accuracy'])"
   ]
  },
  {
   "cell_type": "code",
   "execution_count": 22,
   "metadata": {},
   "outputs": [
    {
     "name": "stdout",
     "output_type": "stream",
     "text": [
      "_________________________________________________________________\n",
      "Layer (type)                 Output Shape              Param #   \n",
      "=================================================================\n",
      "conv2d_6 (Conv2D)            (None, 28, 28, 4)         104       \n",
      "_________________________________________________________________\n",
      "activation_10 (Activation)   (None, 28, 28, 4)         0         \n",
      "_________________________________________________________________\n",
      "max_pooling2d_6 (MaxPooling2 (None, 14, 14, 4)         0         \n",
      "_________________________________________________________________\n",
      "conv2d_7 (Conv2D)            (None, 14, 14, 8)         808       \n",
      "_________________________________________________________________\n",
      "activation_11 (Activation)   (None, 14, 14, 8)         0         \n",
      "_________________________________________________________________\n",
      "max_pooling2d_7 (MaxPooling2 (None, 7, 7, 8)           0         \n",
      "_________________________________________________________________\n",
      "conv2d_8 (Conv2D)            (None, 7, 7, 16)          3216      \n",
      "_________________________________________________________________\n",
      "activation_12 (Activation)   (None, 7, 7, 16)          0         \n",
      "_________________________________________________________________\n",
      "max_pooling2d_8 (MaxPooling2 (None, 3, 3, 16)          0         \n",
      "_________________________________________________________________\n",
      "conv2d_9 (Conv2D)            (None, 3, 3, 32)          12832     \n",
      "_________________________________________________________________\n",
      "activation_13 (Activation)   (None, 3, 3, 32)          0         \n",
      "_________________________________________________________________\n",
      "max_pooling2d_9 (MaxPooling2 (None, 1, 1, 32)          0         \n",
      "_________________________________________________________________\n",
      "flatten_3 (Flatten)          (None, 32)                0         \n",
      "_________________________________________________________________\n",
      "dense_5 (Dense)              (None, 9)                 297       \n",
      "_________________________________________________________________\n",
      "activation_14 (Activation)   (None, 9)                 0         \n",
      "_________________________________________________________________\n",
      "dense_6 (Dense)              (None, 10)                100       \n",
      "_________________________________________________________________\n",
      "activation_15 (Activation)   (None, 10)                0         \n",
      "=================================================================\n",
      "Total params: 17,357\n",
      "Trainable params: 17,357\n",
      "Non-trainable params: 0\n",
      "_________________________________________________________________\n"
     ]
    }
   ],
   "source": [
    "model_2.summary()"
   ]
  },
  {
   "cell_type": "code",
   "execution_count": 23,
   "metadata": {},
   "outputs": [
    {
     "name": "stdout",
     "output_type": "stream",
     "text": [
      "Epoch 1/50\n",
      "60000/60000 [==============================] - 43s 721us/step - loss: 0.0898 - acc: 0.1109\n",
      "Epoch 2/50\n",
      "60000/60000 [==============================] - 43s 719us/step - loss: 0.0891 - acc: 0.1447\n",
      "Epoch 3/50\n",
      "60000/60000 [==============================] - 43s 720us/step - loss: 0.0862 - acc: 0.2324\n",
      "Epoch 4/50\n",
      "60000/60000 [==============================] - 45s 749us/step - loss: 0.0731 - acc: 0.4168\n",
      "Epoch 5/50\n",
      "60000/60000 [==============================] - 43s 720us/step - loss: 0.0501 - acc: 0.6055\n",
      "Epoch 6/50\n",
      "60000/60000 [==============================] - 43s 718us/step - loss: 0.0294 - acc: 0.7933\n",
      "Epoch 7/50\n",
      "60000/60000 [==============================] - 43s 720us/step - loss: 0.0164 - acc: 0.8922\n",
      "Epoch 8/50\n",
      "60000/60000 [==============================] - 43s 724us/step - loss: 0.0123 - acc: 0.9197\n",
      "Epoch 9/50\n",
      "60000/60000 [==============================] - 43s 722us/step - loss: 0.0103 - acc: 0.9333\n",
      "Epoch 10/50\n",
      "60000/60000 [==============================] - 43s 724us/step - loss: 0.0091 - acc: 0.9408\n",
      "Epoch 11/50\n",
      "60000/60000 [==============================] - 43s 723us/step - loss: 0.0082 - acc: 0.9468\n",
      "Epoch 12/50\n",
      "60000/60000 [==============================] - 43s 723us/step - loss: 0.0075 - acc: 0.9510\n",
      "Epoch 13/50\n",
      "60000/60000 [==============================] - 43s 723us/step - loss: 0.0070 - acc: 0.9544\n",
      "Epoch 14/50\n",
      "60000/60000 [==============================] - 43s 724us/step - loss: 0.0066 - acc: 0.9572\n",
      "Epoch 15/50\n",
      "60000/60000 [==============================] - 44s 727us/step - loss: 0.0063 - acc: 0.9604\n",
      "Epoch 16/50\n",
      "60000/60000 [==============================] - 44s 727us/step - loss: 0.0059 - acc: 0.9619\n",
      "Epoch 17/50\n",
      "60000/60000 [==============================] - 44s 725us/step - loss: 0.0057 - acc: 0.9630\n",
      "Epoch 18/50\n",
      "60000/60000 [==============================] - 44s 725us/step - loss: 0.0054 - acc: 0.9655\n",
      "Epoch 19/50\n",
      "60000/60000 [==============================] - 44s 729us/step - loss: 0.0053 - acc: 0.9662\n",
      "Epoch 20/50\n",
      "60000/60000 [==============================] - 44s 727us/step - loss: 0.0050 - acc: 0.9678\n",
      "Epoch 21/50\n",
      "60000/60000 [==============================] - 44s 727us/step - loss: 0.0049 - acc: 0.9683\n",
      "Epoch 22/50\n",
      "60000/60000 [==============================] - 44s 726us/step - loss: 0.0048 - acc: 0.9691\n",
      "Epoch 23/50\n",
      "60000/60000 [==============================] - 44s 728us/step - loss: 0.0046 - acc: 0.9706\n",
      "Epoch 24/50\n",
      "60000/60000 [==============================] - 44s 729us/step - loss: 0.0045 - acc: 0.9709\n",
      "Epoch 25/50\n",
      "60000/60000 [==============================] - 44s 730us/step - loss: 0.0044 - acc: 0.9723\n",
      "Epoch 26/50\n",
      "60000/60000 [==============================] - 44s 728us/step - loss: 0.0043 - acc: 0.9726\n",
      "Epoch 27/50\n",
      "60000/60000 [==============================] - 44s 731us/step - loss: 0.0041 - acc: 0.9738\n",
      "Epoch 28/50\n",
      "60000/60000 [==============================] - 44s 730us/step - loss: 0.0041 - acc: 0.9740\n",
      "Epoch 29/50\n",
      "60000/60000 [==============================] - 44s 730us/step - loss: 0.0040 - acc: 0.9747\n",
      "Epoch 30/50\n",
      "60000/60000 [==============================] - 44s 733us/step - loss: 0.0039 - acc: 0.9758\n",
      "Epoch 31/50\n",
      "60000/60000 [==============================] - 44s 731us/step - loss: 0.0038 - acc: 0.9762\n",
      "Epoch 32/50\n",
      "60000/60000 [==============================] - 44s 733us/step - loss: 0.0038 - acc: 0.9763\n",
      "Epoch 33/50\n",
      "60000/60000 [==============================] - 44s 732us/step - loss: 0.0037 - acc: 0.9772\n",
      "Epoch 34/50\n",
      "60000/60000 [==============================] - 44s 732us/step - loss: 0.0036 - acc: 0.9777\n",
      "Epoch 35/50\n",
      "60000/60000 [==============================] - 44s 735us/step - loss: 0.0035 - acc: 0.9781\n",
      "Epoch 36/50\n",
      "60000/60000 [==============================] - 44s 732us/step - loss: 0.0034 - acc: 0.9785\n",
      "Epoch 37/50\n",
      "60000/60000 [==============================] - 44s 737us/step - loss: 0.0034 - acc: 0.9787\n",
      "Epoch 38/50\n",
      "60000/60000 [==============================] - 44s 734us/step - loss: 0.0033 - acc: 0.9796\n",
      "Epoch 39/50\n",
      "60000/60000 [==============================] - 44s 735us/step - loss: 0.0032 - acc: 0.9798\n",
      "Epoch 40/50\n",
      "60000/60000 [==============================] - 44s 737us/step - loss: 0.0032 - acc: 0.9797\n",
      "Epoch 41/50\n",
      "60000/60000 [==============================] - 44s 736us/step - loss: 0.0032 - acc: 0.9801\n",
      "Epoch 42/50\n",
      "60000/60000 [==============================] - 44s 737us/step - loss: 0.0031 - acc: 0.9811\n",
      "Epoch 43/50\n",
      "60000/60000 [==============================] - 44s 737us/step - loss: 0.0031 - acc: 0.9810\n",
      "Epoch 44/50\n",
      "60000/60000 [==============================] - 44s 737us/step - loss: 0.0030 - acc: 0.9812\n",
      "Epoch 45/50\n",
      "60000/60000 [==============================] - 44s 739us/step - loss: 0.0030 - acc: 0.9809\n",
      "Epoch 46/50\n",
      "60000/60000 [==============================] - 44s 739us/step - loss: 0.0029 - acc: 0.9820\n",
      "Epoch 47/50\n",
      "60000/60000 [==============================] - 44s 739us/step - loss: 0.0028 - acc: 0.9827\n",
      "Epoch 48/50\n",
      "60000/60000 [==============================] - 44s 738us/step - loss: 0.0029 - acc: 0.9818\n",
      "Epoch 49/50\n",
      "60000/60000 [==============================] - 44s 740us/step - loss: 0.0028 - acc: 0.9830\n",
      "Epoch 50/50\n",
      "60000/60000 [==============================] - 44s 739us/step - loss: 0.0027 - acc: 0.9830\n"
     ]
    }
   ],
   "source": [
    "X2 = model_2.fit(x_train, y_train, batch_size=100, epochs=50)"
   ]
  },
  {
   "cell_type": "markdown",
   "metadata": {},
   "source": [
    "# 畫圖比較 accuracy"
   ]
  },
  {
   "cell_type": "code",
   "execution_count": 24,
   "metadata": {
    "scrolled": true
   },
   "outputs": [
    {
     "data": {
      "image/png": "[encoded data removed]",
      "text/plain": [
       "<Figure size 432x288 with 1 Axes>"
      ]
     },
     "metadata": {
      "needs_background": "light"
     },
     "output_type": "display_data"
    }
   ],
   "source": [
    "plt.plot(X0.history[\"acc\"])\n",
    "plt.plot(X1.history[\"acc\"])\n",
    "plt.plot(X2.history[\"acc\"])\n",
    "\n",
    "plt.title(\"model training accuracy\")\n",
    "plt.ylabel(\"accuracy\")\n",
    "plt.xlabel(\"epoch\")\n",
    "plt.legend([\"convolution = 2\", \"convolution = 3\", \"convolution = 4\"], loc = \"best\")\n",
    "plt.show()"
   ]
  },
  {
   "cell_type": "markdown",
   "metadata": {},
   "source": [
    "# 心得"
   ]
  },
  {
   "cell_type": "markdown",
   "metadata": {},
   "source": [
    "* 雖然老師上課說一般的神經網路的 convolution block層數需大於等於 3 ，但由結果可看到在同樣 50 個 epoch 雖然 convolution block 層數 = 2 的正確率並不比其他 convolution block 層數較大的情況低，依然有 95% 以上。\n",
    "* 由結果可以看到 convoltion block 層數越多時，對正確率的影響並不大(至少在此題目下)。"
   ]
  },
  {
   "cell_type": "code",
   "execution_count": null,
   "metadata": {},
   "outputs": [],
   "source": []
  }
 ],
 "metadata": {
  "kernelspec": {
   "display_name": "Python 3",
   "language": "python",
   "name": "python3"
  },
  "language_info": {
   "codemirror_mode": {
    "name": "ipython",
    "version": 3
   },
   "file_extension": ".py",
   "mimetype": "text/x-python",
   "name": "python",
   "nbconvert_exporter": "python",
   "pygments_lexer": "ipython3",
   "version": "3.6.8"
  }
 },
 "nbformat": 4,
 "nbformat_minor": 2
}
