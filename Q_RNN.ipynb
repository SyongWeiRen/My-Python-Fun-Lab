{
 "cells": [
  {
   "cell_type": "markdown",
   "metadata": {},
   "source": [
    "* 由於要從眾多變因中找尋符合老師要求的正確率，我試圖利用有規劃性的方式找尋一些可能對結果有幫助的參數，得以建立我認為最佳的 RNN model。"
   ]
  },
  {
   "cell_type": "code",
   "execution_count": 1,
   "metadata": {},
   "outputs": [
    {
     "name": "stdout",
     "output_type": "stream",
     "text": [
      "env: KERAS_BACKEND=tensorflow\n"
     ]
    }
   ],
   "source": [
    "%env KERAS_BACKEND=tensorflow"
   ]
  },
  {
   "cell_type": "code",
   "execution_count": 2,
   "metadata": {},
   "outputs": [],
   "source": [
    "%matplotlib inline\n",
    "\n",
    "import numpy as np\n",
    "import matplotlib.pyplot as plt\n",
    "import pandas as pd"
   ]
  },
  {
   "cell_type": "markdown",
   "metadata": {},
   "source": [
    "# 1.匯入資料庫"
   ]
  },
  {
   "cell_type": "code",
   "execution_count": 3,
   "metadata": {},
   "outputs": [
    {
     "name": "stderr",
     "output_type": "stream",
     "text": [
      "Using TensorFlow backend.\n"
     ]
    }
   ],
   "source": [
    "from keras.datasets import imdb"
   ]
  },
  {
   "cell_type": "code",
   "execution_count": 4,
   "metadata": {
    "scrolled": true
   },
   "outputs": [],
   "source": [
    "(x_train, y_train), (x_test, y_test) = imdb.load_data(num_words=10000)"
   ]
  },
  {
   "cell_type": "markdown",
   "metadata": {},
   "source": [
    "# 2.整理格式"
   ]
  },
  {
   "cell_type": "markdown",
   "metadata": {},
   "source": [
    "## 輸入數據"
   ]
  },
  {
   "cell_type": "code",
   "execution_count": 5,
   "metadata": {
    "scrolled": true
   },
   "outputs": [
    {
     "name": "stdout",
     "output_type": "stream",
     "text": [
      "訓練總筆數: 25000\n",
      "測試總筆數: 25000\n"
     ]
    }
   ],
   "source": [
    "print(\"訓練總筆數:\", len(x_train))\n",
    "print(\"測試總筆數:\", len(x_test))"
   ]
  },
  {
   "cell_type": "code",
   "execution_count": 6,
   "metadata": {},
   "outputs": [],
   "source": [
    "from keras.preprocessing import sequence"
   ]
  },
  {
   "cell_type": "code",
   "execution_count": 7,
   "metadata": {},
   "outputs": [
    {
     "data": {
      "text/plain": [
       "(25000, 150)"
      ]
     },
     "execution_count": 7,
     "metadata": {},
     "output_type": "execute_result"
    }
   ],
   "source": [
    "# 把輸入文字變成一樣長(都上限為150字，不夠的補零)\n",
    "x_train = sequence.pad_sequences(x_train, maxlen=150)\n",
    "x_test = sequence.pad_sequences(x_test, maxlen=150)\n",
    "\n",
    "# 檢查處理後的資料\n",
    "x_train.shape"
   ]
  },
  {
   "cell_type": "markdown",
   "metadata": {},
   "source": [
    "## 輸出數據"
   ]
  },
  {
   "cell_type": "code",
   "execution_count": 8,
   "metadata": {},
   "outputs": [
    {
     "name": "stdout",
     "output_type": "stream",
     "text": [
      "訓練總筆數: 25000\n",
      "測試總筆數: 25000\n"
     ]
    }
   ],
   "source": [
    "print(\"訓練總筆數:\", len(y_train))\n",
    "print(\"測試總筆數:\", len(y_test))"
   ]
  },
  {
   "cell_type": "markdown",
   "metadata": {},
   "source": [
    "# 3.以 for loop 找到最佳的 K 值(固定 N = 100 )"
   ]
  },
  {
   "cell_type": "code",
   "execution_count": 9,
   "metadata": {},
   "outputs": [],
   "source": [
    "from keras.models import Sequential, Model\n",
    "from keras.layers import Dense, Embedding, Input\n",
    "from keras.layers import LSTM"
   ]
  },
  {
   "cell_type": "code",
   "execution_count": 10,
   "metadata": {},
   "outputs": [
    {
     "name": "stdout",
     "output_type": "stream",
     "text": [
      "100, 10\n",
      "Epoch 1/3\n",
      "25000/25000 [==============================] - 36s 1ms/step - loss: 0.4806 - acc: 0.7676\n",
      "Epoch 2/3\n",
      "25000/25000 [==============================] - 35s 1ms/step - loss: 0.2682 - acc: 0.8982\n",
      "Epoch 3/3\n",
      "25000/25000 [==============================] - 35s 1ms/step - loss: 0.1950 - acc: 0.9312\n",
      "25000/25000 [==============================] - 15s 585us/step\n",
      "acc = 0.86164\n",
      "100, 20\n",
      "Epoch 1/3\n",
      "25000/25000 [==============================] - 38s 2ms/step - loss: 0.4644 - acc: 0.7827\n",
      "Epoch 2/3\n",
      "25000/25000 [==============================] - 37s 1ms/step - loss: 0.2582 - acc: 0.8983\n",
      "Epoch 3/3\n",
      "25000/25000 [==============================] - 37s 1ms/step - loss: 0.1821 - acc: 0.9350\n",
      "25000/25000 [==============================] - 16s 621us/step\n",
      "acc = 0.85744\n",
      "100, 30\n",
      "Epoch 1/3\n",
      "25000/25000 [==============================] - 42s 2ms/step - loss: 0.4385 - acc: 0.7910\n",
      "Epoch 2/3\n",
      "25000/25000 [==============================] - 41s 2ms/step - loss: 0.2520 - acc: 0.9024\n",
      "Epoch 3/3\n",
      "25000/25000 [==============================] - 41s 2ms/step - loss: 0.1838 - acc: 0.9334\n",
      "25000/25000 [==============================] - 18s 714us/step\n",
      "acc = 0.85272\n",
      "100, 40\n",
      "Epoch 1/3\n",
      "25000/25000 [==============================] - ETA: 0s - loss: 0.4126 - acc: 0.802 - 46s 2ms/step - loss: 0.4119 - acc: 0.8032\n",
      "Epoch 2/3\n",
      "25000/25000 [==============================] - 45s 2ms/step - loss: 0.2325 - acc: 0.9092\n",
      "Epoch 3/3\n",
      "25000/25000 [==============================] - 45s 2ms/step - loss: 0.1711 - acc: 0.9368\n",
      "25000/25000 [==============================] - 19s 771us/step\n",
      "acc = 0.86016\n",
      "100, 50\n",
      "Epoch 1/3\n",
      "25000/25000 [==============================] - 57s 2ms/step - loss: 0.4039 - acc: 0.8126\n",
      "Epoch 2/3\n",
      "25000/25000 [==============================] - 55s 2ms/step - loss: 0.2336 - acc: 0.9085\n",
      "Epoch 3/3\n",
      "25000/25000 [==============================] - 56s 2ms/step - loss: 0.1797 - acc: 0.9328\n",
      "25000/25000 [==============================] - 22s 874us/step\n",
      "acc = 0.86124\n",
      "100, 60\n",
      "Epoch 1/3\n",
      "25000/25000 [==============================] - 62s 2ms/step - loss: 0.4411 - acc: 0.7880\n",
      "Epoch 2/3\n",
      "25000/25000 [==============================] - 59s 2ms/step - loss: 0.2535 - acc: 0.9019\n",
      "Epoch 3/3\n",
      "25000/25000 [==============================] - 59s 2ms/step - loss: 0.1870 - acc: 0.9297\n",
      "25000/25000 [==============================] - 21s 830us/step\n",
      "acc = 0.85684\n",
      "100, 70\n",
      "Epoch 1/3\n",
      "25000/25000 [==============================] - 69s 3ms/step - loss: 0.4069 - acc: 0.8078\n",
      "Epoch 2/3\n",
      "25000/25000 [==============================] - 67s 3ms/step - loss: 0.2373 - acc: 0.9078\n",
      "Epoch 3/3\n",
      "25000/25000 [==============================] - 67s 3ms/step - loss: 0.1794 - acc: 0.9354\n",
      "25000/25000 [==============================] - 23s 937us/step\n",
      "acc = 0.85816\n",
      "100, 80\n",
      "Epoch 1/3\n",
      "25000/25000 [==============================] - 102s 4ms/step - loss: 0.4147 - acc: 0.8049\n",
      "Epoch 2/3\n",
      "25000/25000 [==============================] - 100s 4ms/step - loss: 0.2421 - acc: 0.9062\n",
      "Epoch 3/3\n",
      "25000/25000 [==============================] - 100s 4ms/step - loss: 0.1829 - acc: 0.9332\n",
      "25000/25000 [==============================] - 25s 1ms/step\n",
      "acc = 0.86244\n",
      "100, 90\n",
      "Epoch 1/3\n",
      "25000/25000 [==============================] - 129s 5ms/step - loss: 0.4224 - acc: 0.8043\n",
      "Epoch 2/3\n",
      "25000/25000 [==============================] - 126s 5ms/step - loss: 0.2443 - acc: 0.9053\n",
      "Epoch 3/3\n",
      "25000/25000 [==============================] - 125s 5ms/step - loss: 0.1764 - acc: 0.9340\n",
      "25000/25000 [==============================] - 29s 1ms/step\n",
      "acc = 0.85828\n",
      "100, 100\n",
      "Epoch 1/3\n",
      "25000/25000 [==============================] - 131s 5ms/step - loss: 0.4788 - acc: 0.7568\n",
      "Epoch 2/3\n",
      "25000/25000 [==============================] - 130s 5ms/step - loss: 0.2587 - acc: 0.9002\n",
      "Epoch 3/3\n",
      "25000/25000 [==============================] - 129s 5ms/step - loss: 0.1897 - acc: 0.9288\n",
      "25000/25000 [==============================] - 32s 1ms/step\n",
      "acc = 0.86048\n"
     ]
    }
   ],
   "source": [
    "N = 100\n",
    "best_acc = 0\n",
    "\n",
    "for K in range(10, 100+1, 10):\n",
    "    print(str(N)+\", \"+str(K))\n",
    "        \n",
    "    model = Sequential()\n",
    "    \n",
    "    model.add(Embedding(10000, N))\n",
    "    model.add(LSTM(K))\n",
    "    model.add(Dense(1, activation='sigmoid'))\n",
    "        \n",
    "    model.compile(loss='binary_crossentropy',\n",
    "                  optimizer='adam',\n",
    "                  metrics=['accuracy'])\n",
    "      \n",
    "    X0 = model.fit(x_train, y_train,\n",
    "                   batch_size=100,\n",
    "                   epochs=3)\n",
    "        \n",
    "    score = model.evaluate(x_test, y_test)\n",
    "    print(\"acc = \"+str(score[1]))\n",
    "        \n",
    "    if score[1] > best_acc:\n",
    "        best_acc = score[1]\n",
    "        best_K = K"
   ]
  },
  {
   "cell_type": "code",
   "execution_count": 11,
   "metadata": {
    "scrolled": true
   },
   "outputs": [
    {
     "name": "stdout",
     "output_type": "stream",
     "text": [
      "best_K為80\n",
      "其對應正確率為0.86244\n"
     ]
    }
   ],
   "source": [
    "print(\"best_K為\"+str(best_K))\n",
    "print(\"其對應正確率為\"+str(best_acc))"
   ]
  },
  {
   "cell_type": "markdown",
   "metadata": {},
   "source": [
    "由以上方法我們找到當 N = 100, K = 30 時，有最佳的 testing data 的正確率，但仍未達到老師要求的標準 87% ，所以以此為基礎進行一些調整看能不能優化它。"
   ]
  },
  {
   "cell_type": "markdown",
   "metadata": {},
   "source": [
    "# 4.基於最佳的 model ，並且去優化它直到 testing data 的正確率達 87% 以上"
   ]
  },
  {
   "cell_type": "markdown",
   "metadata": {},
   "source": [
    "為了避免 overfitting ，所以在此引進 EarlyStopping 和 Dropout 。"
   ]
  },
  {
   "cell_type": "code",
   "execution_count": 12,
   "metadata": {},
   "outputs": [],
   "source": [
    "from keras.callbacks import EarlyStopping\n",
    "from keras.layers import Dropout"
   ]
  },
  {
   "cell_type": "code",
   "execution_count": 13,
   "metadata": {},
   "outputs": [],
   "source": [
    "early_stopping = EarlyStopping(monitor='val_acc', verbose=2, mode='max', patience=1)"
   ]
  },
  {
   "cell_type": "code",
   "execution_count": 14,
   "metadata": {},
   "outputs": [
    {
     "name": "stdout",
     "output_type": "stream",
     "text": [
      "Train on 24750 samples, validate on 250 samples\n",
      "Epoch 1/10\n",
      "24750/24750 [==============================] - 110s 4ms/step - loss: 0.4187 - acc: 0.7998 - val_loss: 0.2860 - val_acc: 0.8840\n",
      "Epoch 2/10\n",
      "24750/24750 [==============================] - 108s 4ms/step - loss: 0.2429 - acc: 0.9048 - val_loss: 0.3826 - val_acc: 0.8760\n",
      "Epoch 00002: early stopping\n"
     ]
    }
   ],
   "source": [
    "N = 100\n",
    "K = best_K\n",
    "\n",
    "model_best = Sequential()\n",
    "\n",
    "early_stopping = EarlyStopping(monitor='val_acc', verbose=2, mode='max', patience=1)\n",
    "model_best.add(Embedding(10000, N))\n",
    "model_best.add(Dropout(0.25))\n",
    "model_best.add(LSTM(K))\n",
    "model_best.add(Dropout(0.2))\n",
    "model_best.add(Dense(1, activation='sigmoid'))\n",
    "        \n",
    "model_best.compile(loss='binary_crossentropy', \n",
    "                   optimizer='adam',\n",
    "                   metrics=['accuracy'])\n",
    "        \n",
    "X_best = model_best.fit(x_train, y_train,\n",
    "                        validation_split=0.01,\n",
    "                        batch_size=100,\n",
    "                        epochs=10,\n",
    "                        callbacks=[early_stopping])"
   ]
  },
  {
   "cell_type": "markdown",
   "metadata": {},
   "source": [
    "## 檢視結果"
   ]
  },
  {
   "cell_type": "code",
   "execution_count": 15,
   "metadata": {
    "scrolled": true
   },
   "outputs": [
    {
     "data": {
      "image/png": "[encoded data removed]",
      "text/plain": [
       "<Figure size 432x288 with 1 Axes>"
      ]
     },
     "metadata": {
      "needs_background": "light"
     },
     "output_type": "display_data"
    }
   ],
   "source": [
    "plt.plot(X_best.history[\"acc\"])\n",
    "\n",
    "plt.title(\"model training accuracy\")\n",
    "plt.ylabel(\"accuracy\")\n",
    "plt.xlabel(\"epoch\")\n",
    "plt.show()"
   ]
  },
  {
   "cell_type": "code",
   "execution_count": 16,
   "metadata": {},
   "outputs": [
    {
     "name": "stdout",
     "output_type": "stream",
     "text": [
      "25000/25000 [==============================] - 26s 1ms/step\n",
      "testing data 的正確率為0.84844\n"
     ]
    }
   ],
   "source": [
    "score = model_best.evaluate(x_test, y_test)\n",
    "print(\"testing data 的正確率為\"+str(score[1]))"
   ]
  },
  {
   "cell_type": "markdown",
   "metadata": {},
   "source": [
    "# 5.以 for loop 找到最佳的 N 值(固定 K = 30 )"
   ]
  },
  {
   "cell_type": "markdown",
   "metadata": {},
   "source": [
    "發現仍未達 87% 的正確率，所以我再對 N 進行修正。(雖然這些參數可能會彼此相依，但在此我們先將其視為參數彼此獨立)"
   ]
  },
  {
   "cell_type": "code",
   "execution_count": 17,
   "metadata": {},
   "outputs": [
    {
     "name": "stdout",
     "output_type": "stream",
     "text": [
      "10, 30\n",
      "Epoch 1/3\n",
      "25000/25000 [==============================] - 20s 809us/step - loss: 0.4819 - acc: 0.7602\n",
      "Epoch 2/3\n",
      "25000/25000 [==============================] - 19s 742us/step - loss: 0.2613 - acc: 0.8979\n",
      "Epoch 3/3\n",
      "25000/25000 [==============================] - 19s 744us/step - loss: 0.2095 - acc: 0.9221\n",
      "25000/25000 [==============================] - 9s 366us/step\n",
      "acc = 0.84492\n",
      "20, 30\n",
      "Epoch 1/3\n",
      "25000/25000 [==============================] - 23s 914us/step - loss: 0.4796 - acc: 0.7573\n",
      "Epoch 2/3\n",
      "25000/25000 [==============================] - 21s 842us/step - loss: 0.2588 - acc: 0.8980\n",
      "Epoch 3/3\n",
      "25000/25000 [==============================] - 21s 841us/step - loss: 0.1981 - acc: 0.9266\n",
      "25000/25000 [==============================] - 10s 390us/step\n",
      "acc = 0.85364\n",
      "30, 30\n",
      "Epoch 1/3\n",
      "25000/25000 [==============================] - 26s 1ms/step - loss: 0.4462 - acc: 0.7881\n",
      "Epoch 2/3\n",
      "25000/25000 [==============================] - 24s 959us/step - loss: 0.2508 - acc: 0.9017\n",
      "Epoch 3/3\n",
      "25000/25000 [==============================] - 24s 959us/step - loss: 0.1907 - acc: 0.9303\n",
      "25000/25000 [==============================] - 11s 426us/step\n",
      "acc = 0.85636\n",
      "40, 30\n",
      "Epoch 1/3\n",
      "25000/25000 [==============================] - 28s 1ms/step - loss: 0.4436 - acc: 0.7911\n",
      "Epoch 2/3\n",
      "25000/25000 [==============================] - 26s 1ms/step - loss: 0.2472 - acc: 0.9035\n",
      "Epoch 3/3\n",
      "25000/25000 [==============================] - 26s 1ms/step - loss: 0.1867 - acc: 0.9326\n",
      "25000/25000 [==============================] - 12s 466us/step\n",
      "acc = 0.8616\n",
      "50, 30\n",
      "Epoch 1/3\n",
      "25000/25000 [==============================] - 30s 1ms/step - loss: 0.4380 - acc: 0.7854\n",
      "Epoch 2/3\n",
      "25000/25000 [==============================] - 28s 1ms/step - loss: 0.2437 - acc: 0.9057\n",
      "Epoch 3/3\n",
      "25000/25000 [==============================] - 28s 1ms/step - loss: 0.1788 - acc: 0.9346\n",
      "25000/25000 [==============================] - 12s 485us/step\n",
      "acc = 0.85764\n",
      "60, 30\n",
      "Epoch 1/3\n",
      "25000/25000 [==============================] - 32s 1ms/step - loss: 0.4273 - acc: 0.7981\n",
      "Epoch 2/3\n",
      "25000/25000 [==============================] - 30s 1ms/step - loss: 0.2395 - acc: 0.9048\n",
      "Epoch 3/3\n",
      "25000/25000 [==============================] - 30s 1ms/step - loss: 0.1833 - acc: 0.9317\n",
      "25000/25000 [==============================] - 13s 517us/step\n",
      "acc = 0.8546\n",
      "70, 30\n",
      "Epoch 1/3\n",
      "25000/25000 [==============================] - 35s 1ms/step - loss: 0.4351 - acc: 0.7954\n",
      "Epoch 2/3\n",
      "25000/25000 [==============================] - 33s 1ms/step - loss: 0.2374 - acc: 0.9076\n",
      "Epoch 3/3\n",
      "25000/25000 [==============================] - 33s 1ms/step - loss: 0.1786 - acc: 0.9340\n",
      "25000/25000 [==============================] - 14s 557us/step\n",
      "acc = 0.86072\n",
      "80, 30\n",
      "Epoch 1/3\n",
      "25000/25000 [==============================] - 38s 2ms/step - loss: 0.4324 - acc: 0.7976\n",
      "Epoch 2/3\n",
      "25000/25000 [==============================] - 36s 1ms/step - loss: 0.2443 - acc: 0.9048\n",
      "Epoch 3/3\n",
      "25000/25000 [==============================] - 36s 1ms/step - loss: 0.1770 - acc: 0.9358\n",
      "25000/25000 [==============================] - 15s 587us/step\n",
      "acc = 0.85696\n",
      "90, 30\n",
      "Epoch 1/3\n",
      "25000/25000 [==============================] - 41s 2ms/step - loss: 0.4303 - acc: 0.7978\n",
      "Epoch 2/3\n",
      "25000/25000 [==============================] - 39s 2ms/step - loss: 0.2373 - acc: 0.9076\n",
      "Epoch 3/3\n",
      "25000/25000 [==============================] - 39s 2ms/step - loss: 0.1720 - acc: 0.9384\n",
      "25000/25000 [==============================] - 16s 628us/step\n",
      "acc = 0.86008\n",
      "100, 30\n",
      "Epoch 1/3\n",
      "25000/25000 [==============================] - 43s 2ms/step - loss: 0.4274 - acc: 0.7994\n",
      "Epoch 2/3\n",
      "25000/25000 [==============================] - 41s 2ms/step - loss: 0.2419 - acc: 0.9039\n",
      "Epoch 3/3\n",
      "25000/25000 [==============================] - 41s 2ms/step - loss: 0.1751 - acc: 0.9357\n",
      "25000/25000 [==============================] - 17s 673us/step\n",
      "acc = 0.85996\n"
     ]
    }
   ],
   "source": [
    "K = 30\n",
    "best_acc = 0\n",
    "\n",
    "for N in range(10, 100+1, 10):\n",
    "    print(str(N)+\", \"+str(K))\n",
    "        \n",
    "    model = Sequential()\n",
    "    \n",
    "    model.add(Embedding(10000, N))\n",
    "    model.add(LSTM(K))\n",
    "    model.add(Dense(1, activation='sigmoid'))\n",
    "        \n",
    "    model.compile(loss='binary_crossentropy',\n",
    "                  optimizer='adam',\n",
    "                  metrics=['accuracy'])\n",
    "      \n",
    "    X0 = model.fit(x_train, y_train,\n",
    "                   batch_size=100,\n",
    "                   epochs=3)\n",
    "        \n",
    "    score = model.evaluate(x_test, y_test)\n",
    "    print(\"acc = \"+str(score[1]))\n",
    "        \n",
    "    if score[1] > best_acc:\n",
    "        best_acc = score[1]\n",
    "        best_N = N"
   ]
  },
  {
   "cell_type": "code",
   "execution_count": 18,
   "metadata": {},
   "outputs": [
    {
     "name": "stdout",
     "output_type": "stream",
     "text": [
      "best_N為40\n",
      "其對應正確率為0.8616\n"
     ]
    }
   ],
   "source": [
    "print(\"best_N為\"+str(best_N))\n",
    "print(\"其對應正確率為\"+str(best_acc))"
   ]
  },
  {
   "cell_type": "markdown",
   "metadata": {},
   "source": [
    "# 6.基於最佳的 model ，並且去優化它直到 testing data 的正確率達 87% 以上"
   ]
  },
  {
   "cell_type": "code",
   "execution_count": 19,
   "metadata": {},
   "outputs": [
    {
     "name": "stdout",
     "output_type": "stream",
     "text": [
      "Train on 24750 samples, validate on 250 samples\n",
      "Epoch 1/10\n",
      "24750/24750 [==============================] - 70s 3ms/step - loss: 0.4552 - acc: 0.7727 - val_loss: 0.3034 - val_acc: 0.8680\n",
      "Epoch 2/10\n",
      "24750/24750 [==============================] - 67s 3ms/step - loss: 0.2589 - acc: 0.8977 - val_loss: 0.2726 - val_acc: 0.8720\n",
      "Epoch 3/10\n",
      "24750/24750 [==============================] - 67s 3ms/step - loss: 0.2029 - acc: 0.9253 - val_loss: 0.2858 - val_acc: 0.8880\n",
      "Epoch 4/10\n",
      "24750/24750 [==============================] - 67s 3ms/step - loss: 0.1692 - acc: 0.9404 - val_loss: 0.3517 - val_acc: 0.8680\n",
      "Epoch 00004: early stopping\n"
     ]
    }
   ],
   "source": [
    "N = best_N\n",
    "K = best_K\n",
    "\n",
    "model_best = Sequential()\n",
    "\n",
    "early_stopping = EarlyStopping(monitor='val_acc', verbose=2, mode='max', patience=1)\n",
    "model_best.add(Embedding(10000, N))\n",
    "model_best.add(Dropout(0.25))\n",
    "model_best.add(LSTM(K))\n",
    "model_best.add(Dropout(0.2))\n",
    "model_best.add(Dense(1, activation='sigmoid'))\n",
    "        \n",
    "model_best.compile(loss='binary_crossentropy', \n",
    "                   optimizer='adam',\n",
    "                   metrics=['accuracy'])\n",
    "        \n",
    "X_best = model_best.fit(x_train, y_train,\n",
    "                        validation_split=0.01,\n",
    "                        batch_size=100,\n",
    "                        epochs=10,\n",
    "                        callbacks=[early_stopping])"
   ]
  },
  {
   "cell_type": "markdown",
   "metadata": {},
   "source": [
    "## 檢視結果"
   ]
  },
  {
   "cell_type": "code",
   "execution_count": 20,
   "metadata": {},
   "outputs": [
    {
     "data": {
      "image/png": "[encoded data removed]",
      "text/plain": [
       "<Figure size 432x288 with 1 Axes>"
      ]
     },
     "metadata": {
      "needs_background": "light"
     },
     "output_type": "display_data"
    }
   ],
   "source": [
    "plt.plot(X_best.history[\"acc\"])\n",
    "\n",
    "plt.title(\"model training accuracy\")\n",
    "plt.ylabel(\"accuracy\")\n",
    "plt.xlabel(\"epoch\")\n",
    "plt.show()"
   ]
  },
  {
   "cell_type": "code",
   "execution_count": 21,
   "metadata": {},
   "outputs": [
    {
     "name": "stdout",
     "output_type": "stream",
     "text": [
      "25000/25000 [==============================] - 21s 832us/step\n",
      "testing data 的正確率為0.8386\n"
     ]
    }
   ],
   "source": [
    "score = model_best.evaluate(x_test, y_test)\n",
    "print(\"testing data 的正確率為\"+str(score[1]))"
   ]
  },
  {
   "cell_type": "markdown",
   "metadata": {},
   "source": [
    "結果反而變低了...或許我們可以再調整 batch_size 看會對結果造成什麼影響。"
   ]
  },
  {
   "cell_type": "markdown",
   "metadata": {},
   "source": [
    "# 7.以 for loop 找到最佳的 batch_size值(固定 N = 20, K = 30 )"
   ]
  },
  {
   "cell_type": "code",
   "execution_count": 22,
   "metadata": {},
   "outputs": [
    {
     "name": "stdout",
     "output_type": "stream",
     "text": [
      "Size: 150\n",
      "Epoch 1/3\n",
      "25000/25000 [==============================] - 83s 3ms/step - loss: 0.4443 - acc: 0.7842\n",
      "Epoch 2/3\n",
      "25000/25000 [==============================] - 81s 3ms/step - loss: 0.2516 - acc: 0.9028\n",
      "Epoch 3/3\n",
      "25000/25000 [==============================] - 81s 3ms/step - loss: 0.1966 - acc: 0.9274\n",
      "25000/25000 [==============================] - 22s 876us/step\n",
      "acc = 0.85444\n",
      "Size: 200\n",
      "Epoch 1/3\n",
      "25000/25000 [==============================] - 78s 3ms/step - loss: 0.4783 - acc: 0.7578\n",
      "Epoch 2/3\n",
      "25000/25000 [==============================] - 76s 3ms/step - loss: 0.2557 - acc: 0.9005\n",
      "Epoch 3/3\n",
      "25000/25000 [==============================] - 76s 3ms/step - loss: 0.1967 - acc: 0.9273\n",
      "25000/25000 [==============================] - 22s 885us/step\n",
      "acc = 0.86036\n",
      "Size: 250\n",
      "Epoch 1/3\n",
      "25000/25000 [==============================] - 101s 4ms/step - loss: 0.4999 - acc: 0.7378\n",
      "Epoch 2/3\n",
      "25000/25000 [==============================] - 103s 4ms/step - loss: 0.2754 - acc: 0.8893\n",
      "Epoch 3/3\n",
      "25000/25000 [==============================] - 104s 4ms/step - loss: 0.2046 - acc: 0.9241\n",
      "25000/25000 [==============================] - 23s 902us/step\n",
      "acc = 0.85996\n",
      "Size: 300\n",
      "Epoch 1/3\n",
      "25000/25000 [==============================] - 100s 4ms/step - loss: 0.5400 - acc: 0.7226\n",
      "Epoch 2/3\n",
      "25000/25000 [==============================] - 100s 4ms/step - loss: 0.2874 - acc: 0.8868\n",
      "Epoch 3/3\n",
      "25000/25000 [==============================] - 100s 4ms/step - loss: 0.2096 - acc: 0.9226\n",
      "25000/25000 [==============================] - 23s 909us/step\n",
      "acc = 0.8632\n",
      "Size: 350\n",
      "Epoch 1/3\n",
      "25000/25000 [==============================] - 102s 4ms/step - loss: 0.5451 - acc: 0.7230\n",
      "Epoch 2/3\n",
      "25000/25000 [==============================] - 102s 4ms/step - loss: 0.2877 - acc: 0.8873\n",
      "Epoch 3/3\n",
      "25000/25000 [==============================] - 102s 4ms/step - loss: 0.2152 - acc: 0.9202\n",
      "25000/25000 [==============================] - 23s 930us/step\n",
      "acc = 0.86252\n",
      "Size: 400\n",
      "Epoch 1/3\n",
      "25000/25000 [==============================] - 103s 4ms/step - loss: 0.5643 - acc: 0.6951\n",
      "Epoch 2/3\n",
      "25000/25000 [==============================] - 102s 4ms/step - loss: 0.2929 - acc: 0.8857\n",
      "Epoch 3/3\n",
      "25000/25000 [==============================] - 102s 4ms/step - loss: 0.2122 - acc: 0.9212\n",
      "25000/25000 [==============================] - 23s 928us/step\n",
      "acc = 0.85272\n",
      "Size: 450\n",
      "Epoch 1/3\n",
      "25000/25000 [==============================] - 113s 5ms/step - loss: 0.5692 - acc: 0.6876\n",
      "Epoch 2/3\n",
      "25000/25000 [==============================] - 111s 4ms/step - loss: 0.2971 - acc: 0.8834\n",
      "Epoch 3/3\n",
      "25000/25000 [==============================] - 111s 4ms/step - loss: 0.2189 - acc: 0.9189\n",
      "25000/25000 [==============================] - 24s 960us/step\n",
      "acc = 0.86392\n",
      "Size: 500\n",
      "Epoch 1/3\n",
      "25000/25000 [==============================] - 141s 6ms/step - loss: 0.5916 - acc: 0.6754\n",
      "Epoch 2/3\n",
      "25000/25000 [==============================] - 139s 6ms/step - loss: 0.3085 - acc: 0.8750\n",
      "Epoch 3/3\n",
      "25000/25000 [==============================] - 141s 6ms/step - loss: 0.2371 - acc: 0.9108\n",
      "25000/25000 [==============================] - 24s 949us/step\n",
      "acc = 0.85584\n"
     ]
    }
   ],
   "source": [
    "N = best_N\n",
    "K = best_K\n",
    "best_acc = 0\n",
    "\n",
    "for Size in range(150, 500+1, 50):\n",
    "    print(\"Size: \"+str(Size))\n",
    "        \n",
    "    model = Sequential()\n",
    "    \n",
    "    model.add(Embedding(10000, N))\n",
    "    model.add(LSTM(K))\n",
    "    model.add(Dense(1, activation='sigmoid'))\n",
    "        \n",
    "    model.compile(loss='binary_crossentropy',\n",
    "                  optimizer='adam',\n",
    "                  metrics=['accuracy'])\n",
    "      \n",
    "    X0 = model.fit(x_train, y_train,\n",
    "                   batch_size=Size,\n",
    "                   epochs=3)\n",
    "        \n",
    "    score = model.evaluate(x_test, y_test)\n",
    "    print(\"acc = \"+str(score[1]))\n",
    "        \n",
    "    if score[1] > best_acc:\n",
    "        best_acc = score[1]\n",
    "        best_Size = Size"
   ]
  },
  {
   "cell_type": "code",
   "execution_count": 23,
   "metadata": {},
   "outputs": [
    {
     "name": "stdout",
     "output_type": "stream",
     "text": [
      "best_Size為450\n",
      "其對應正確率為0.86392\n"
     ]
    }
   ],
   "source": [
    "print(\"best_Size為\"+str(best_Size))\n",
    "print(\"其對應正確率為\"+str(best_acc))"
   ]
  },
  {
   "cell_type": "markdown",
   "metadata": {},
   "source": [
    "# 8.基於最佳的 model ，並且去優化它直到 testing data 的正確率達 87% 以上"
   ]
  },
  {
   "cell_type": "code",
   "execution_count": 24,
   "metadata": {},
   "outputs": [
    {
     "name": "stdout",
     "output_type": "stream",
     "text": [
      "Train on 24750 samples, validate on 250 samples\n",
      "Epoch 1/10\n",
      "24750/24750 [==============================] - 147s 6ms/step - loss: 0.6066 - acc: 0.6508 - val_loss: 0.3928 - val_acc: 0.8520\n",
      "Epoch 2/10\n",
      "24750/24750 [==============================] - 145s 6ms/step - loss: 0.3190 - acc: 0.8697 - val_loss: 0.2782 - val_acc: 0.9000\n",
      "Epoch 3/10\n",
      "24750/24750 [==============================] - 144s 6ms/step - loss: 0.2292 - acc: 0.9118 - val_loss: 0.2884 - val_acc: 0.8840\n",
      "Epoch 00003: early stopping\n"
     ]
    }
   ],
   "source": [
    "N = best_N\n",
    "K = best_K\n",
    "Size = best_Size\n",
    "\n",
    "model_best = Sequential()\n",
    "\n",
    "early_stopping = EarlyStopping(monitor='val_acc', verbose=2, mode='max', patience=1)\n",
    "model_best.add(Embedding(10000, N))\n",
    "model_best.add(Dropout(0.25))\n",
    "model_best.add(LSTM(K))\n",
    "model_best.add(Dropout(0.2))\n",
    "model_best.add(Dense(1, activation='sigmoid'))\n",
    "        \n",
    "model_best.compile(loss='binary_crossentropy', \n",
    "                   optimizer='adam',\n",
    "                   metrics=['accuracy'])\n",
    "        \n",
    "X_best = model_best.fit(x_train, y_train,\n",
    "                        validation_split=0.01,\n",
    "                        batch_size=Size,\n",
    "                        epochs=10,\n",
    "                        callbacks=[early_stopping])"
   ]
  },
  {
   "cell_type": "markdown",
   "metadata": {},
   "source": [
    "## 檢視結果"
   ]
  },
  {
   "cell_type": "code",
   "execution_count": 25,
   "metadata": {},
   "outputs": [
    {
     "data": {
      "image/png": "[encoded data removed]",
      "text/plain": [
       "<Figure size 432x288 with 1 Axes>"
      ]
     },
     "metadata": {
      "needs_background": "light"
     },
     "output_type": "display_data"
    }
   ],
   "source": [
    "plt.plot(X_best.history[\"acc\"])\n",
    "\n",
    "plt.title(\"model training accuracy\")\n",
    "plt.ylabel(\"accuracy\")\n",
    "plt.xlabel(\"epoch\")\n",
    "plt.show()"
   ]
  },
  {
   "cell_type": "code",
   "execution_count": 26,
   "metadata": {},
   "outputs": [
    {
     "name": "stdout",
     "output_type": "stream",
     "text": [
      "25000/25000 [==============================] - 22s 890us/step\n",
      "testing data 的正確率為0.8616\n"
     ]
    }
   ],
   "source": [
    "score = model_best.evaluate(x_test, y_test)\n",
    "print(\"testing data 的正確率為\"+str(score[1]))"
   ]
  },
  {
   "cell_type": "markdown",
   "metadata": {},
   "source": [
    "雖然有很小幅的上升了，很可惜的仍然沒有達要求...因此想回頭看看是否與一開始的 maxlen 長度有關。"
   ]
  },
  {
   "cell_type": "markdown",
   "metadata": {},
   "source": [
    "# 9.以 for loop 找到最佳的 maxlen 值(固定 N = 20, K = 30, batch_size = 450 )"
   ]
  },
  {
   "cell_type": "code",
   "execution_count": 27,
   "metadata": {},
   "outputs": [
    {
     "name": "stdout",
     "output_type": "stream",
     "text": [
      "Maxlen: 150\n",
      "Epoch 1/3\n",
      "25000/25000 [==============================] - 145s 6ms/step - loss: 0.5707 - acc: 0.6904\n",
      "Epoch 2/3\n",
      "25000/25000 [==============================] - 142s 6ms/step - loss: 0.2913 - acc: 0.8824\n",
      "Epoch 3/3\n",
      "25000/25000 [==============================] - 143s 6ms/step - loss: 0.2188 - acc: 0.9162\n",
      "25000/25000 [==============================] - 24s 956us/step\n",
      "acc = 0.86432\n",
      "Maxlen: 160\n",
      "Epoch 1/3\n",
      "25000/25000 [==============================] - 154s 6ms/step - loss: 0.5829 - acc: 0.6888\n",
      "Epoch 2/3\n",
      "25000/25000 [==============================] - 152s 6ms/step - loss: 0.2981 - acc: 0.8831\n",
      "Epoch 3/3\n",
      "25000/25000 [==============================] - 153s 6ms/step - loss: 0.2147 - acc: 0.9186\n",
      "25000/25000 [==============================] - 26s 1ms/step\n",
      "acc = 0.86208\n",
      "Maxlen: 170\n",
      "Epoch 1/3\n",
      "25000/25000 [==============================] - 166s 7ms/step - loss: 0.6574 - acc: 0.6140\n",
      "Epoch 2/3\n",
      "25000/25000 [==============================] - 164s 7ms/step - loss: 0.3554 - acc: 0.8509\n",
      "Epoch 3/3\n",
      "25000/25000 [==============================] - 165s 7ms/step - loss: 0.2350 - acc: 0.9100\n",
      "25000/25000 [==============================] - 27s 1ms/step\n",
      "acc = 0.86648\n",
      "Maxlen: 180\n",
      "Epoch 1/3\n",
      "25000/25000 [==============================] - 182s 7ms/step - loss: 0.6285 - acc: 0.6510\n",
      "Epoch 2/3\n",
      "25000/25000 [==============================] - 179s 7ms/step - loss: 0.3392 - acc: 0.8591\n",
      "Epoch 3/3\n",
      "25000/25000 [==============================] - 180s 7ms/step - loss: 0.2365 - acc: 0.9109\n",
      "25000/25000 [==============================] - 30s 1ms/step\n",
      "acc = 0.85976\n",
      "Maxlen: 190\n",
      "Epoch 1/3\n",
      "25000/25000 [==============================] - 205s 8ms/step - loss: 0.6403 - acc: 0.6304\n",
      "Epoch 2/3\n",
      "25000/25000 [==============================] - 203s 8ms/step - loss: 0.3301 - acc: 0.8624\n",
      "Epoch 3/3\n",
      "25000/25000 [==============================] - 203s 8ms/step - loss: 0.2303 - acc: 0.9124\n",
      "25000/25000 [==============================] - 32s 1ms/step\n",
      "acc = 0.86232\n",
      "Maxlen: 200\n",
      "Epoch 1/3\n",
      "25000/25000 [==============================] - 226s 9ms/step - loss: 0.6700 - acc: 0.6446\n",
      "Epoch 2/3\n",
      "25000/25000 [==============================] - 224s 9ms/step - loss: 0.5560 - acc: 0.7811\n",
      "Epoch 3/3\n",
      "25000/25000 [==============================] - 225s 9ms/step - loss: 0.2974 - acc: 0.8818\n",
      "25000/25000 [==============================] - 33s 1ms/step\n",
      "acc = 0.86676\n"
     ]
    }
   ],
   "source": [
    "N = best_N\n",
    "K = best_K\n",
    "Size = best_Size\n",
    "best_acc = 0\n",
    "\n",
    "for MLen in range(150, 200+1, 10):\n",
    "    # 把輸入文字變成一樣長(都上限為150字，不夠的補零)\n",
    "    x_train = sequence.pad_sequences(x_train, maxlen=MLen)\n",
    "    x_test = sequence.pad_sequences(x_test, maxlen=MLen)\n",
    "    \n",
    "    print(\"Maxlen: \"+str(MLen))\n",
    "        \n",
    "    model = Sequential()\n",
    "    \n",
    "    model.add(Embedding(10000, N))\n",
    "    model.add(LSTM(K))\n",
    "    model.add(Dense(1, activation='sigmoid'))\n",
    "        \n",
    "    model.compile(loss='binary_crossentropy',\n",
    "                  optimizer='adam',\n",
    "                  metrics=['accuracy'])\n",
    "      \n",
    "    X0 = model.fit(x_train, y_train,\n",
    "                   batch_size=Size,\n",
    "                   epochs=3)\n",
    "        \n",
    "    score = model.evaluate(x_test, y_test)\n",
    "    print(\"acc = \"+str(score[1]))\n",
    "        \n",
    "    if score[1] > best_acc:\n",
    "        best_acc = score[1]\n",
    "        best_MLen = MLen"
   ]
  },
  {
   "cell_type": "code",
   "execution_count": 28,
   "metadata": {},
   "outputs": [
    {
     "name": "stdout",
     "output_type": "stream",
     "text": [
      "best_MLen為200\n",
      "其對應正確率為0.86676\n"
     ]
    }
   ],
   "source": [
    "print(\"best_MLen為\"+str(best_MLen))\n",
    "print(\"其對應正確率為\"+str(best_acc))"
   ]
  },
  {
   "cell_type": "markdown",
   "metadata": {},
   "source": [
    "# 10.基於最佳的 model ，並且去優化它直到 testing data 的正確率達 87% 以上"
   ]
  },
  {
   "cell_type": "code",
   "execution_count": 29,
   "metadata": {},
   "outputs": [
    {
     "name": "stdout",
     "output_type": "stream",
     "text": [
      "Train on 24750 samples, validate on 250 samples\n",
      "Epoch 1/10\n",
      "24750/24750 [==============================] - 234s 9ms/step - loss: 0.6705 - acc: 0.6195 - val_loss: 0.6503 - val_acc: 0.7360\n",
      "Epoch 2/10\n",
      "24750/24750 [==============================] - 234s 9ms/step - loss: 0.5446 - acc: 0.7733 - val_loss: 0.3619 - val_acc: 0.8560\n",
      "Epoch 3/10\n",
      "24750/24750 [==============================] - 235s 9ms/step - loss: 0.3001 - acc: 0.8781 - val_loss: 0.2954 - val_acc: 0.8800\n",
      "Epoch 4/10\n",
      "24750/24750 [==============================] - 235s 9ms/step - loss: 0.2236 - acc: 0.9154 - val_loss: 0.2834 - val_acc: 0.8720\n",
      "Epoch 00004: early stopping\n"
     ]
    }
   ],
   "source": [
    "N = best_N\n",
    "K = best_K\n",
    "Size = best_Size\n",
    "MLen = best_MLen\n",
    "best_acc = 0\n",
    "\n",
    "x_train = sequence.pad_sequences(x_train, maxlen=MLen)\n",
    "x_test = sequence.pad_sequences(x_test, maxlen=MLen) \n",
    "\n",
    "model_best = Sequential()\n",
    "\n",
    "early_stopping = EarlyStopping(monitor='val_acc', verbose=2, mode='max', patience=1)\n",
    "model_best.add(Embedding(10000, N))\n",
    "model_best.add(Dropout(0.25))\n",
    "model_best.add(LSTM(K))\n",
    "model_best.add(Dropout(0.2))\n",
    "model_best.add(Dense(1, activation='sigmoid'))\n",
    "        \n",
    "model_best.compile(loss='binary_crossentropy', \n",
    "                   optimizer='adam',\n",
    "                   metrics=['accuracy'])\n",
    "        \n",
    "X_best = model_best.fit(x_train, y_train,\n",
    "                        validation_split=0.01,\n",
    "                        batch_size=Size,\n",
    "                        epochs=10,\n",
    "                        callbacks=[early_stopping])"
   ]
  },
  {
   "cell_type": "markdown",
   "metadata": {},
   "source": [
    "## 檢視結果"
   ]
  },
  {
   "cell_type": "code",
   "execution_count": 30,
   "metadata": {},
   "outputs": [
    {
     "data": {
      "image/png": "[encoded data removed]",
      "text/plain": [
       "<Figure size 432x288 with 1 Axes>"
      ]
     },
     "metadata": {
      "needs_background": "light"
     },
     "output_type": "display_data"
    }
   ],
   "source": [
    "plt.plot(X_best.history[\"acc\"])\n",
    "\n",
    "plt.title(\"model training accuracy\")\n",
    "plt.ylabel(\"accuracy\")\n",
    "plt.xlabel(\"epoch\")\n",
    "plt.show()"
   ]
  },
  {
   "cell_type": "code",
   "execution_count": 31,
   "metadata": {},
   "outputs": [
    {
     "name": "stdout",
     "output_type": "stream",
     "text": [
      "25000/25000 [==============================] - 31s 1ms/step\n",
      "testing data 的正確率為0.8648\n"
     ]
    }
   ],
   "source": [
    "score = model_best.evaluate(x_test, y_test)\n",
    "print(\"testing data 的正確率為\"+str(score[1]))"
   ]
  },
  {
   "cell_type": "markdown",
   "metadata": {},
   "source": [
    "## 儲存"
   ]
  },
  {
   "cell_type": "code",
   "execution_count": 32,
   "metadata": {},
   "outputs": [],
   "source": [
    "model_best_json = model_best.to_json()\n",
    "open(\"N\"+str(N)+\"K\"+str(K)+\"RNN_for_HW\"+\".json\", 'w').write(model_best_json)\n",
    "model_best.save_weights(\"N\"+str(N)+\"K\"+str(K)+\"RNN_for_HW_weights.h5\")"
   ]
  },
  {
   "cell_type": "markdown",
   "metadata": {},
   "source": [
    "# 心得"
   ]
  },
  {
   "cell_type": "markdown",
   "metadata": {},
   "source": [
    "* 基於上課建構的模型，我對此進行幾項數值(N, K, batch_size, maxlen)最佳化的測試，試圖使最後 testing data 的正確率達到老師要求的 87% 。\n",
    "* 在尋找最佳化的值時，我做了一個假設：各個變因彼此不相關(這\"極為\"可能是個錯誤的假設，但對於現階段我能做到的只能利用此方法提高正確率)。\n",
    "* 由第 3~6 點我們可以發現，並非越大的 N 及 K 值(甚至最後得到的數值還偏小)會達到最佳的結果。\n",
    "* 由第 7~8 點我們可以發現，batch_size 的數值似乎不能太小，否則會造成正確率上升緩慢或是變小。\n",
    "* 由第9~10 點藉由改變 maxlen 的大小，試圖選用最有能能提高正確率的參數，由結果可以發現 maxlen 太大正確率會往下掉。"
   ]
  },
  {
   "cell_type": "markdown",
   "metadata": {},
   "source": [
    "# 結果呈現"
   ]
  },
  {
   "cell_type": "code",
   "execution_count": 34,
   "metadata": {},
   "outputs": [
    {
     "name": "stdout",
     "output_type": "stream",
     "text": [
      "N = 40, K = 80, batch_size = 450, maxlen = 200\n"
     ]
    }
   ],
   "source": [
    "print(\"N = \"+str(best_N)+\", \" +\"K = \"+str(best_K)+\", \"+\"batch_size = \"+str(best_Size)+\", \"+\"maxlen = \"+ str(MLen))"
   ]
  },
  {
   "cell_type": "markdown",
   "metadata": {},
   "source": []
  }
 ],
 "metadata": {
  "kernelspec": {
   "display_name": "Python 3",
   "language": "python",
   "name": "python3"
  },
  "language_info": {
   "codemirror_mode": {
    "name": "ipython",
    "version": 3
   },
   "file_extension": ".py",
   "mimetype": "text/x-python",
   "name": "python",
   "nbconvert_exporter": "python",
   "pygments_lexer": "ipython3",
   "version": "3.6.8"
  }
 },
 "nbformat": 4,
 "nbformat_minor": 2
}
