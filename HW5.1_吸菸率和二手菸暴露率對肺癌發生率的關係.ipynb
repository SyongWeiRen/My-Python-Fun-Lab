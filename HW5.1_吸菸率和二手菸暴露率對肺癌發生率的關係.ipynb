{
 "cells": [
  {
   "cell_type": "code",
   "execution_count": 1,
   "metadata": {},
   "outputs": [],
   "source": [
    "%matplotlib inline\n",
    "\n",
    "import numpy as np\n",
    "import matplotlib.pyplot as plt\n",
    "import pandas as pd\n",
    "\n",
    "import matplotlib as mpl\n",
    "mpl.rc('font', family='Noto Sans CJK TC')"
   ]
  },
  {
   "cell_type": "code",
   "execution_count": 2,
   "metadata": {},
   "outputs": [],
   "source": [
    "# 18歲以上人口每日吸菸率\n",
    "SmokingRate= pd.read_csv('https://drive.google.com/uc?export=download&confirm=jeak&id=1JB2eNShp5I4TgF_GMtz_GbKbWiNCpSAU')\n",
    "# 18歲以上人口家庭二手菸暴露率\n",
    "SmokingExposure = pd.read_csv('https://drive.google.com/uc?export=download&confirm=jeak&id=131CzMC8JWLkB7CjP3AWVzh6auPDB8CtA')\n",
    "# 歷年惡性腫瘤發生率\n",
    "Cancer = pd.read_csv(f\"https://drive.google.com/uc?export=download&confirm=jeak&id=1jiPk0JTDETXBM_Fc7Iwuzs11OIDS12_I\")"
   ]
  },
  {
   "cell_type": "code",
   "execution_count": 3,
   "metadata": {},
   "outputs": [
    {
     "data": {
      "text/html": [
       "<div>\n",
       "<style scoped>\n",
       "    .dataframe tbody tr th:only-of-type {\n",
       "        vertical-align: middle;\n",
       "    }\n",
       "\n",
       "    .dataframe tbody tr th {\n",
       "        vertical-align: top;\n",
       "    }\n",
       "\n",
       "    .dataframe thead th {\n",
       "        text-align: right;\n",
       "    }\n",
       "</style>\n",
       "<table border=\"1\" class=\"dataframe\">\n",
       "  <thead>\n",
       "    <tr style=\"text-align: right;\">\n",
       "      <th></th>\n",
       "      <th>分析項目</th>\n",
       "      <th>93年每日吸菸率(%)</th>\n",
       "      <th>94年每日吸菸率(%)</th>\n",
       "      <th>95年每日吸菸率(%)</th>\n",
       "      <th>96年每日吸菸率(%)</th>\n",
       "      <th>97年每日吸菸率(%)</th>\n",
       "      <th>98年每日吸菸率(%)</th>\n",
       "      <th>99年每日吸菸率(%)</th>\n",
       "      <th>100年每日吸菸率(%)</th>\n",
       "      <th>101年每日吸菸率(%)</th>\n",
       "      <th>...</th>\n",
       "      <th>96年女性每日吸菸率(%)</th>\n",
       "      <th>97年女性每日吸菸率(%)</th>\n",
       "      <th>98年女性每日吸菸率(%)</th>\n",
       "      <th>99年女性每日吸菸率(%)</th>\n",
       "      <th>100年女性每日吸菸率(%)</th>\n",
       "      <th>101年女性每日吸菸率(%)</th>\n",
       "      <th>102年女性每日吸菸率(%)</th>\n",
       "      <th>103年女性每日吸菸率(%)</th>\n",
       "      <th>104年女性每日吸菸率(%)</th>\n",
       "      <th>105年女性每日吸菸率(%)</th>\n",
       "    </tr>\n",
       "  </thead>\n",
       "  <tbody>\n",
       "    <tr>\n",
       "      <th>0</th>\n",
       "      <td>整體</td>\n",
       "      <td>20.78</td>\n",
       "      <td>20.31</td>\n",
       "      <td>19.39</td>\n",
       "      <td>19.31</td>\n",
       "      <td>18.9</td>\n",
       "      <td>16.97</td>\n",
       "      <td>17.0942</td>\n",
       "      <td>16.5862</td>\n",
       "      <td>15.8641</td>\n",
       "      <td>...</td>\n",
       "      <td>4.25</td>\n",
       "      <td>3.17</td>\n",
       "      <td>3.16</td>\n",
       "      <td>3.0779</td>\n",
       "      <td>2.9875</td>\n",
       "      <td>3.2234</td>\n",
       "      <td>2.2168</td>\n",
       "      <td>2.9195</td>\n",
       "      <td>3.3564</td>\n",
       "      <td>3.3151</td>\n",
       "    </tr>\n",
       "    <tr>\n",
       "      <th>1</th>\n",
       "      <td>年齡別=18-29歲</td>\n",
       "      <td>22.34</td>\n",
       "      <td>19.06</td>\n",
       "      <td>18.21</td>\n",
       "      <td>17.59</td>\n",
       "      <td>16.62</td>\n",
       "      <td>18.48</td>\n",
       "      <td>15.2703</td>\n",
       "      <td>15.3529</td>\n",
       "      <td>12.7326</td>\n",
       "      <td>...</td>\n",
       "      <td>5.69</td>\n",
       "      <td>3.29</td>\n",
       "      <td>4.26</td>\n",
       "      <td>2.7485</td>\n",
       "      <td>3.0252</td>\n",
       "      <td>3.1041</td>\n",
       "      <td>1.8439</td>\n",
       "      <td>2.7372</td>\n",
       "      <td>0.7604</td>\n",
       "      <td>4.7921</td>\n",
       "    </tr>\n",
       "    <tr>\n",
       "      <th>2</th>\n",
       "      <td>年齡別=30-39歲</td>\n",
       "      <td>23.68</td>\n",
       "      <td>25.21</td>\n",
       "      <td>22.5</td>\n",
       "      <td>24.17</td>\n",
       "      <td>24.87</td>\n",
       "      <td>20.66</td>\n",
       "      <td>22.7520</td>\n",
       "      <td>21.8046</td>\n",
       "      <td>20.7958</td>\n",
       "      <td>...</td>\n",
       "      <td>6.52</td>\n",
       "      <td>5.11</td>\n",
       "      <td>4.42</td>\n",
       "      <td>5.8585</td>\n",
       "      <td>4.2361</td>\n",
       "      <td>6.1991</td>\n",
       "      <td>4.2829</td>\n",
       "      <td>5.4581</td>\n",
       "      <td>8.6029</td>\n",
       "      <td>6.5941</td>\n",
       "    </tr>\n",
       "    <tr>\n",
       "      <th>3</th>\n",
       "      <td>年齡別=40-49歲</td>\n",
       "      <td>23.06</td>\n",
       "      <td>24.01</td>\n",
       "      <td>22.05</td>\n",
       "      <td>23.45</td>\n",
       "      <td>21.22</td>\n",
       "      <td>19.17</td>\n",
       "      <td>21.7655</td>\n",
       "      <td>21.2075</td>\n",
       "      <td>22.3911</td>\n",
       "      <td>...</td>\n",
       "      <td>3.23</td>\n",
       "      <td>3.59</td>\n",
       "      <td>3.20</td>\n",
       "      <td>2.7968</td>\n",
       "      <td>3.8308</td>\n",
       "      <td>4.0132</td>\n",
       "      <td>1.9059</td>\n",
       "      <td>2.4790</td>\n",
       "      <td>3.4923</td>\n",
       "      <td>3.1920</td>\n",
       "    </tr>\n",
       "    <tr>\n",
       "      <th>4</th>\n",
       "      <td>年齡別=50-64歲</td>\n",
       "      <td>17.81</td>\n",
       "      <td>17.87</td>\n",
       "      <td>18.02</td>\n",
       "      <td>16.9</td>\n",
       "      <td>16.96</td>\n",
       "      <td>14.49</td>\n",
       "      <td>14.4284</td>\n",
       "      <td>12.6278</td>\n",
       "      <td>12.2006</td>\n",
       "      <td>...</td>\n",
       "      <td>2.84</td>\n",
       "      <td>1.77</td>\n",
       "      <td>1.94</td>\n",
       "      <td>2.1359</td>\n",
       "      <td>1.7830</td>\n",
       "      <td>0.7434</td>\n",
       "      <td>1.3702</td>\n",
       "      <td>1.9050</td>\n",
       "      <td>2.1804</td>\n",
       "      <td>1.3801</td>\n",
       "    </tr>\n",
       "  </tbody>\n",
       "</table>\n",
       "<p>5 rows × 40 columns</p>\n",
       "</div>"
      ],
      "text/plain": [
       "         分析項目 93年每日吸菸率(%) 94年每日吸菸率(%) 95年每日吸菸率(%) 96年每日吸菸率(%) 97年每日吸菸率(%)  \\\n",
       "0          整體       20.78       20.31       19.39       19.31        18.9   \n",
       "1  年齡別=18-29歲       22.34       19.06       18.21       17.59       16.62   \n",
       "2  年齡別=30-39歲       23.68       25.21        22.5       24.17       24.87   \n",
       "3  年齡別=40-49歲       23.06       24.01       22.05       23.45       21.22   \n",
       "4  年齡別=50-64歲       17.81       17.87       18.02        16.9       16.96   \n",
       "\n",
       "   98年每日吸菸率(%)  99年每日吸菸率(%)  100年每日吸菸率(%)  101年每日吸菸率(%)  ...  96年女性每日吸菸率(%)  \\\n",
       "0        16.97      17.0942       16.5862       15.8641  ...           4.25   \n",
       "1        18.48      15.2703       15.3529       12.7326  ...           5.69   \n",
       "2        20.66      22.7520       21.8046       20.7958  ...           6.52   \n",
       "3        19.17      21.7655       21.2075       22.3911  ...           3.23   \n",
       "4        14.49      14.4284       12.6278       12.2006  ...           2.84   \n",
       "\n",
       "   97年女性每日吸菸率(%)  98年女性每日吸菸率(%)  99年女性每日吸菸率(%) 100年女性每日吸菸率(%) 101年女性每日吸菸率(%)  \\\n",
       "0           3.17           3.16         3.0779         2.9875         3.2234   \n",
       "1           3.29           4.26         2.7485         3.0252         3.1041   \n",
       "2           5.11           4.42         5.8585         4.2361         6.1991   \n",
       "3           3.59           3.20         2.7968         3.8308         4.0132   \n",
       "4           1.77           1.94         2.1359         1.7830         0.7434   \n",
       "\n",
       "  102年女性每日吸菸率(%) 103年女性每日吸菸率(%) 104年女性每日吸菸率(%)  105年女性每日吸菸率(%)  \n",
       "0         2.2168         2.9195         3.3564          3.3151  \n",
       "1         1.8439         2.7372         0.7604          4.7921  \n",
       "2         4.2829         5.4581         8.6029          6.5941  \n",
       "3         1.9059         2.4790         3.4923          3.1920  \n",
       "4         1.3702         1.9050         2.1804          1.3801  \n",
       "\n",
       "[5 rows x 40 columns]"
      ]
     },
     "execution_count": 3,
     "metadata": {},
     "output_type": "execute_result"
    }
   ],
   "source": [
    "SmokingRate.head()"
   ]
  },
  {
   "cell_type": "code",
   "execution_count": 4,
   "metadata": {},
   "outputs": [
    {
     "data": {
      "text/html": [
       "<div>\n",
       "<style scoped>\n",
       "    .dataframe tbody tr th:only-of-type {\n",
       "        vertical-align: middle;\n",
       "    }\n",
       "\n",
       "    .dataframe tbody tr th {\n",
       "        vertical-align: top;\n",
       "    }\n",
       "\n",
       "    .dataframe thead th {\n",
       "        text-align: right;\n",
       "    }\n",
       "</style>\n",
       "<table border=\"1\" class=\"dataframe\">\n",
       "  <thead>\n",
       "    <tr style=\"text-align: right;\">\n",
       "      <th></th>\n",
       "      <th>分析項目</th>\n",
       "      <th>94年家庭二手菸暴露率(%)</th>\n",
       "      <th>95年家庭二手菸暴露率(%)</th>\n",
       "      <th>96年家庭二手菸暴露率(%)</th>\n",
       "      <th>97年家庭二手菸暴露率(%)</th>\n",
       "      <th>98年家庭二手菸暴露率(%)</th>\n",
       "      <th>99年家庭二手菸暴露率(%)</th>\n",
       "      <th>100年家庭二手菸暴露率(%)</th>\n",
       "      <th>101年家庭二手菸暴露率(%)</th>\n",
       "      <th>102年家庭二手菸暴露率(%)</th>\n",
       "      <th>...</th>\n",
       "      <th>96年女性家庭二手菸暴露率(%)</th>\n",
       "      <th>97年女性家庭二手菸暴露率(%)</th>\n",
       "      <th>98年女性家庭二手菸暴露率(%)</th>\n",
       "      <th>99年女性家庭二手菸暴露率(%)</th>\n",
       "      <th>100年女性家庭二手菸暴露率(%)</th>\n",
       "      <th>101年女性家庭二手菸暴露率(%)</th>\n",
       "      <th>102年女性家庭二手菸暴露率(%)</th>\n",
       "      <th>103年女性家庭二手菸暴露率(%)</th>\n",
       "      <th>104年女性家庭二手菸暴露率(%)</th>\n",
       "      <th>105年女性家庭二手菸暴露率(%)</th>\n",
       "    </tr>\n",
       "  </thead>\n",
       "  <tbody>\n",
       "    <tr>\n",
       "      <th>0</th>\n",
       "      <td>整體</td>\n",
       "      <td>35.24</td>\n",
       "      <td>33.01</td>\n",
       "      <td>30.66</td>\n",
       "      <td>27.2</td>\n",
       "      <td>20.83</td>\n",
       "      <td>24.9437</td>\n",
       "      <td>19.8776</td>\n",
       "      <td>21.5580</td>\n",
       "      <td>25.1980</td>\n",
       "      <td>...</td>\n",
       "      <td>29.13</td>\n",
       "      <td>26.25</td>\n",
       "      <td>17.82</td>\n",
       "      <td>24.5865</td>\n",
       "      <td>17.3329</td>\n",
       "      <td>22.0739</td>\n",
       "      <td>24.7217</td>\n",
       "      <td>28.5289</td>\n",
       "      <td>26.2152</td>\n",
       "      <td>25.1959</td>\n",
       "    </tr>\n",
       "    <tr>\n",
       "      <th>1</th>\n",
       "      <td>年齡別=18-29歲</td>\n",
       "      <td>40.49</td>\n",
       "      <td>37.99</td>\n",
       "      <td>35.26</td>\n",
       "      <td>30.92</td>\n",
       "      <td>28.50</td>\n",
       "      <td>30.0454</td>\n",
       "      <td>25.7022</td>\n",
       "      <td>26.3459</td>\n",
       "      <td>29.9002</td>\n",
       "      <td>...</td>\n",
       "      <td>33.96</td>\n",
       "      <td>29.56</td>\n",
       "      <td>23.00</td>\n",
       "      <td>28.6583</td>\n",
       "      <td>21.6370</td>\n",
       "      <td>28.4222</td>\n",
       "      <td>28.6216</td>\n",
       "      <td>33.4685</td>\n",
       "      <td>30.7978</td>\n",
       "      <td>30.8379</td>\n",
       "    </tr>\n",
       "    <tr>\n",
       "      <th>2</th>\n",
       "      <td>年齡別=30-39歲</td>\n",
       "      <td>39.35</td>\n",
       "      <td>35.06</td>\n",
       "      <td>33.82</td>\n",
       "      <td>29.51</td>\n",
       "      <td>22.25</td>\n",
       "      <td>29.7547</td>\n",
       "      <td>23.5203</td>\n",
       "      <td>25.5605</td>\n",
       "      <td>27.2646</td>\n",
       "      <td>...</td>\n",
       "      <td>33.66</td>\n",
       "      <td>30.33</td>\n",
       "      <td>20.67</td>\n",
       "      <td>31.7089</td>\n",
       "      <td>22.3581</td>\n",
       "      <td>25.4563</td>\n",
       "      <td>27.9138</td>\n",
       "      <td>33.1251</td>\n",
       "      <td>31.5673</td>\n",
       "      <td>29.3601</td>\n",
       "    </tr>\n",
       "    <tr>\n",
       "      <th>3</th>\n",
       "      <td>年齡別=40-49歲</td>\n",
       "      <td>35.26</td>\n",
       "      <td>33.07</td>\n",
       "      <td>31.54</td>\n",
       "      <td>26.36</td>\n",
       "      <td>20.85</td>\n",
       "      <td>22.5962</td>\n",
       "      <td>18.2589</td>\n",
       "      <td>19.9136</td>\n",
       "      <td>26.2948</td>\n",
       "      <td>...</td>\n",
       "      <td>31.68</td>\n",
       "      <td>29.14</td>\n",
       "      <td>20.27</td>\n",
       "      <td>24.3284</td>\n",
       "      <td>17.1491</td>\n",
       "      <td>23.1557</td>\n",
       "      <td>26.0890</td>\n",
       "      <td>27.3962</td>\n",
       "      <td>25.1563</td>\n",
       "      <td>34.3017</td>\n",
       "    </tr>\n",
       "    <tr>\n",
       "      <th>4</th>\n",
       "      <td>年齡別=50-64歲</td>\n",
       "      <td>32.55</td>\n",
       "      <td>32.08</td>\n",
       "      <td>25.78</td>\n",
       "      <td>25.93</td>\n",
       "      <td>15.32</td>\n",
       "      <td>21.5948</td>\n",
       "      <td>15.6594</td>\n",
       "      <td>17.4220</td>\n",
       "      <td>20.2260</td>\n",
       "      <td>...</td>\n",
       "      <td>23.48</td>\n",
       "      <td>24.32</td>\n",
       "      <td>14.23</td>\n",
       "      <td>20.6430</td>\n",
       "      <td>14.3600</td>\n",
       "      <td>17.4510</td>\n",
       "      <td>20.7214</td>\n",
       "      <td>24.8369</td>\n",
       "      <td>23.5701</td>\n",
       "      <td>23.4546</td>\n",
       "    </tr>\n",
       "  </tbody>\n",
       "</table>\n",
       "<p>5 rows × 37 columns</p>\n",
       "</div>"
      ],
      "text/plain": [
       "         分析項目 94年家庭二手菸暴露率(%) 95年家庭二手菸暴露率(%) 96年家庭二手菸暴露率(%) 97年家庭二手菸暴露率(%)  \\\n",
       "0          整體          35.24          33.01          30.66           27.2   \n",
       "1  年齡別=18-29歲          40.49          37.99          35.26          30.92   \n",
       "2  年齡別=30-39歲          39.35          35.06          33.82          29.51   \n",
       "3  年齡別=40-49歲          35.26          33.07          31.54          26.36   \n",
       "4  年齡別=50-64歲          32.55          32.08          25.78          25.93   \n",
       "\n",
       "   98年家庭二手菸暴露率(%)  99年家庭二手菸暴露率(%)  100年家庭二手菸暴露率(%)  101年家庭二手菸暴露率(%)  \\\n",
       "0           20.83         24.9437          19.8776          21.5580   \n",
       "1           28.50         30.0454          25.7022          26.3459   \n",
       "2           22.25         29.7547          23.5203          25.5605   \n",
       "3           20.85         22.5962          18.2589          19.9136   \n",
       "4           15.32         21.5948          15.6594          17.4220   \n",
       "\n",
       "   102年家庭二手菸暴露率(%)  ...  96年女性家庭二手菸暴露率(%)  97年女性家庭二手菸暴露率(%)  98年女性家庭二手菸暴露率(%)  \\\n",
       "0          25.1980  ...             29.13             26.25             17.82   \n",
       "1          29.9002  ...             33.96             29.56             23.00   \n",
       "2          27.2646  ...             33.66             30.33             20.67   \n",
       "3          26.2948  ...             31.68             29.14             20.27   \n",
       "4          20.2260  ...             23.48             24.32             14.23   \n",
       "\n",
       "  99年女性家庭二手菸暴露率(%) 100年女性家庭二手菸暴露率(%) 101年女性家庭二手菸暴露率(%) 102年女性家庭二手菸暴露率(%)  \\\n",
       "0          24.5865           17.3329           22.0739           24.7217   \n",
       "1          28.6583           21.6370           28.4222           28.6216   \n",
       "2          31.7089           22.3581           25.4563           27.9138   \n",
       "3          24.3284           17.1491           23.1557           26.0890   \n",
       "4          20.6430           14.3600           17.4510           20.7214   \n",
       "\n",
       "   103年女性家庭二手菸暴露率(%)  104年女性家庭二手菸暴露率(%)  105年女性家庭二手菸暴露率(%)  \n",
       "0            28.5289            26.2152            25.1959  \n",
       "1            33.4685            30.7978            30.8379  \n",
       "2            33.1251            31.5673            29.3601  \n",
       "3            27.3962            25.1563            34.3017  \n",
       "4            24.8369            23.5701            23.4546  \n",
       "\n",
       "[5 rows x 37 columns]"
      ]
     },
     "execution_count": 4,
     "metadata": {},
     "output_type": "execute_result"
    }
   ],
   "source": [
    "SmokingExposure.head()"
   ]
  },
  {
   "cell_type": "code",
   "execution_count": 5,
   "metadata": {},
   "outputs": [
    {
     "data": {
      "text/html": [
       "<div>\n",
       "<style scoped>\n",
       "    .dataframe tbody tr th:only-of-type {\n",
       "        vertical-align: middle;\n",
       "    }\n",
       "\n",
       "    .dataframe tbody tr th {\n",
       "        vertical-align: top;\n",
       "    }\n",
       "\n",
       "    .dataframe thead th {\n",
       "        text-align: right;\n",
       "    }\n",
       "</style>\n",
       "<table border=\"1\" class=\"dataframe\">\n",
       "  <thead>\n",
       "    <tr style=\"text-align: right;\">\n",
       "      <th></th>\n",
       "      <th>依年度別分by year</th>\n",
       "      <th>攝護腺癌Prostate Cancer(每十萬人)</th>\n",
       "      <th>肺癌Lung Cancer(每十萬人)</th>\n",
       "      <th>大腸直腸癌Colorectal Cancer(每十萬人)</th>\n",
       "      <th>女性乳癌Female Breast Cancer(每十萬人)</th>\n",
       "      <th>子宮頸癌Cervical Cancer(每十萬人)</th>\n",
       "    </tr>\n",
       "  </thead>\n",
       "  <tbody>\n",
       "    <tr>\n",
       "      <th>0</th>\n",
       "      <td>2000</td>\n",
       "      <td>17.9</td>\n",
       "      <td>30.8</td>\n",
       "      <td>33.9</td>\n",
       "      <td>39.9</td>\n",
       "      <td>25.4</td>\n",
       "    </tr>\n",
       "    <tr>\n",
       "      <th>1</th>\n",
       "      <td>2001</td>\n",
       "      <td>17.8</td>\n",
       "      <td>30.1</td>\n",
       "      <td>32.6</td>\n",
       "      <td>40.5</td>\n",
       "      <td>21.5</td>\n",
       "    </tr>\n",
       "    <tr>\n",
       "      <th>2</th>\n",
       "      <td>2002</td>\n",
       "      <td>19.2</td>\n",
       "      <td>30.3</td>\n",
       "      <td>34.1</td>\n",
       "      <td>41.3</td>\n",
       "      <td>17.9</td>\n",
       "    </tr>\n",
       "    <tr>\n",
       "      <th>3</th>\n",
       "      <td>2003</td>\n",
       "      <td>17.8</td>\n",
       "      <td>29.5</td>\n",
       "      <td>33.7</td>\n",
       "      <td>42.4</td>\n",
       "      <td>16.7</td>\n",
       "    </tr>\n",
       "    <tr>\n",
       "      <th>4</th>\n",
       "      <td>2004</td>\n",
       "      <td>21.2</td>\n",
       "      <td>32.3</td>\n",
       "      <td>38.4</td>\n",
       "      <td>48.4</td>\n",
       "      <td>18.1</td>\n",
       "    </tr>\n",
       "  </tbody>\n",
       "</table>\n",
       "</div>"
      ],
      "text/plain": [
       "   依年度別分by year  攝護腺癌Prostate Cancer(每十萬人)  肺癌Lung Cancer(每十萬人)  \\\n",
       "0          2000                       17.9                 30.8   \n",
       "1          2001                       17.8                 30.1   \n",
       "2          2002                       19.2                 30.3   \n",
       "3          2003                       17.8                 29.5   \n",
       "4          2004                       21.2                 32.3   \n",
       "\n",
       "   大腸直腸癌Colorectal Cancer(每十萬人)  女性乳癌Female Breast Cancer(每十萬人)  \\\n",
       "0                          33.9                            39.9   \n",
       "1                          32.6                            40.5   \n",
       "2                          34.1                            41.3   \n",
       "3                          33.7                            42.4   \n",
       "4                          38.4                            48.4   \n",
       "\n",
       "   子宮頸癌Cervical Cancer(每十萬人)  \n",
       "0                       25.4  \n",
       "1                       21.5  \n",
       "2                       17.9  \n",
       "3                       16.7  \n",
       "4                       18.1  "
      ]
     },
     "execution_count": 5,
     "metadata": {},
     "output_type": "execute_result"
    }
   ],
   "source": [
    "Cancer.head()"
   ]
  },
  {
   "cell_type": "code",
   "execution_count": 6,
   "metadata": {},
   "outputs": [],
   "source": [
    "# 2004~2015年的吸菸率\n",
    "SR = SmokingRate.loc[:].copy()\n",
    "SR = SR[0:1]\n",
    "SR = SR.values\n",
    "SR = SR[:, 1:13]\n",
    "SR = SR.astype(float)\n",
    "SR = SR[0:1]\n",
    "SR = SR.reshape(12)\n",
    "\n",
    "# 2004~2015年的二手菸曝露率\n",
    "SE = SmokingExposure.loc[:].copy()\n",
    "SE = SE[0:1]\n",
    "SE = SE.values\n",
    "SE = SE[:, 1:13]\n",
    "SE = SE.astype(float)\n",
    "SE = SE.reshape(12)\n",
    "\n",
    "#  2004~2015年的肺癌發生率\n",
    "C = Cancer.loc[4:]\n",
    "C = C.values\n",
    "C = C[:, 2]"
   ]
  },
  {
   "cell_type": "code",
   "execution_count": 7,
   "metadata": {},
   "outputs": [
    {
     "data": {
      "text/plain": [
       "Text(0.5, 1.0, '歷年惡性腫瘤發生率')"
      ]
     },
     "execution_count": 7,
     "metadata": {},
     "output_type": "execute_result"
    },
    {
     "data": {
      "image/png": "[encoded data removed]",
      "text/plain": [
       "<Figure size 432x288 with 1 Axes>"
      ]
     },
     "metadata": {
      "needs_background": "light"
     },
     "output_type": "display_data"
    }
   ],
   "source": [
    "# 歷年肺癌發生率(2004~2015年)\n",
    "plt.plot(C)\n",
    "\n",
    "plt.xlabel(\"年\")\n",
    "plt.ylabel(\"每十萬人中患病人數(人)\")\n",
    "plt.title(\"歷年惡性腫瘤發生率\")"
   ]
  },
  {
   "cell_type": "code",
   "execution_count": 8,
   "metadata": {
    "scrolled": true
   },
   "outputs": [
    {
     "data": {
      "text/plain": [
       "Text(0.5, 1.0, '歷年吸菸率')"
      ]
     },
     "execution_count": 8,
     "metadata": {},
     "output_type": "execute_result"
    },
    {
     "data": {
      "image/png": "[encoded data removed]",
      "text/plain": [
       "<Figure size 432x288 with 1 Axes>"
      ]
     },
     "metadata": {
      "needs_background": "light"
     },
     "output_type": "display_data"
    }
   ],
   "source": [
    "# 歷年吸菸率(2004~2015年)\n",
    "plt.plot(SR)\n",
    "\n",
    "plt.xlabel(\"年\")\n",
    "plt.ylabel(\"吸菸率(%)\")\n",
    "plt.title(\"歷年吸菸率\")"
   ]
  },
  {
   "cell_type": "code",
   "execution_count": 9,
   "metadata": {},
   "outputs": [
    {
     "data": {
      "text/plain": [
       "Text(0.5, 1.0, '歷年二手菸暴露率')"
      ]
     },
     "execution_count": 9,
     "metadata": {},
     "output_type": "execute_result"
    },
    {
     "data": {
      "image/png": "[encoded data removed]",
      "text/plain": [
       "<Figure size 432x288 with 1 Axes>"
      ]
     },
     "metadata": {
      "needs_background": "light"
     },
     "output_type": "display_data"
    }
   ],
   "source": [
    "# 歷年二手菸暴露率\n",
    "plt.plot(SE)\n",
    "\n",
    "plt.xlabel(\"年\")\n",
    "plt.ylabel(\"二手菸暴露率(%)\")\n",
    "plt.title(\"歷年二手菸暴露率\")"
   ]
  },
  {
   "cell_type": "code",
   "execution_count": 10,
   "metadata": {
    "scrolled": false
   },
   "outputs": [
    {
     "data": {
      "text/plain": [
       "Text(0.5, 1.0, '吸菸率與肺癌發生率的關係')"
      ]
     },
     "execution_count": 10,
     "metadata": {},
     "output_type": "execute_result"
    },
    {
     "data": {
      "image/png": "[encoded data removed]",
      "text/plain": [
       "<Figure size 432x288 with 1 Axes>"
      ]
     },
     "metadata": {
      "needs_background": "light"
     },
     "output_type": "display_data"
    }
   ],
   "source": [
    "# 吸菸率與肺癌發生率的關係\n",
    "plt.scatter(SR, C)\n",
    "\n",
    "plt.xlabel(\"吸菸率\")\n",
    "plt.ylabel(\"肺癌發生率\")\n",
    "plt.title(\"吸菸率與肺癌發生率的關係\")"
   ]
  },
  {
   "cell_type": "code",
   "execution_count": 11,
   "metadata": {},
   "outputs": [
    {
     "data": {
      "text/plain": [
       "Text(0.5, 1.0, '二手菸暴露率與肺癌發生率的關係')"
      ]
     },
     "execution_count": 11,
     "metadata": {},
     "output_type": "execute_result"
    },
    {
     "data": {
      "image/png": "[encoded data removed]",
      "text/plain": [
       "<Figure size 432x288 with 1 Axes>"
      ]
     },
     "metadata": {
      "needs_background": "light"
     },
     "output_type": "display_data"
    }
   ],
   "source": [
    "# 二手菸暴露率與肺癌發生率的關係\n",
    "plt.scatter(SE, C)\n",
    "\n",
    "plt.xlabel(\"二手菸暴露率\")\n",
    "plt.ylabel(\"肺癌發生率\")\n",
    "plt.title(\"二手菸暴露率與肺癌發生率的關係\")"
   ]
  },
  {
   "cell_type": "code",
   "execution_count": 13,
   "metadata": {},
   "outputs": [],
   "source": [
    "from sklearn.linear_model import LinearRegression\n",
    "regr = LinearRegression()"
   ]
  },
  {
   "cell_type": "code",
   "execution_count": 14,
   "metadata": {},
   "outputs": [],
   "source": [
    "SR_new = SR.reshape(len(SR), 1)\n",
    "C_new = C.reshape(len(C), 1)\n",
    "regr.fit(SR_new, C)\n",
    "C_predict = regr.predict(SR_new)"
   ]
  },
  {
   "cell_type": "code",
   "execution_count": 15,
   "metadata": {
    "scrolled": true
   },
   "outputs": [
    {
     "data": {
      "text/plain": [
       "Text(0.5, 1.0, '吸菸率與肺癌發生率的關係')"
      ]
     },
     "execution_count": 15,
     "metadata": {},
     "output_type": "execute_result"
    },
    {
     "data": {
      "image/png": "[encoded data removed]",
      "text/plain": [
       "<Figure size 432x288 with 1 Axes>"
      ]
     },
     "metadata": {
      "needs_background": "light"
     },
     "output_type": "display_data"
    }
   ],
   "source": [
    "# 畫出抽菸率對肺癌發生率的回歸直線\n",
    "plt.scatter(SR, C)\n",
    "plt.plot(SR, C_predict, 'r')\n",
    "\n",
    "plt.xlabel(\"吸菸率\")\n",
    "plt.ylabel(\"肺癌發生率\")\n",
    "plt.title(\"吸菸率與肺癌發生率的關係\")"
   ]
  },
  {
   "cell_type": "code",
   "execution_count": 16,
   "metadata": {},
   "outputs": [],
   "source": [
    "SE_new = SE.reshape(len(SR), 1)\n",
    "regr.fit(SE_new, C)\n",
    "C_predict = regr.predict(SE_new)"
   ]
  },
  {
   "cell_type": "code",
   "execution_count": 17,
   "metadata": {},
   "outputs": [
    {
     "data": {
      "text/plain": [
       "Text(0.5, 1.0, '二手菸暴露率與肺癌發生率的關係')"
      ]
     },
     "execution_count": 17,
     "metadata": {},
     "output_type": "execute_result"
    },
    {
     "data": {
      "image/png": "[encoded data removed]",
      "text/plain": [
       "<Figure size 432x288 with 1 Axes>"
      ]
     },
     "metadata": {
      "needs_background": "light"
     },
     "output_type": "display_data"
    }
   ],
   "source": [
    "# 畫出二手菸暴露率對肺癌發生率的回歸直線\n",
    "plt.scatter(SE, C)\n",
    "plt.plot(SE, C_predict, 'r')\n",
    "\n",
    "plt.xlabel(\"二手菸暴露率\")\n",
    "plt.ylabel(\"肺癌發生率\")\n",
    "plt.title(\"二手菸暴露率與肺癌發生率的關係\")"
   ]
  },
  {
   "cell_type": "markdown",
   "metadata": {},
   "source": [
    "# 心得\n",
    "由以上關係圖我們可以發現：\n",
    "* 即使歷年吸菸率及二手菸暴露率逐年有遞減的趨勢，但肺癌有逐年遞增的趨勢，因此得到兩者對肺癌發生率揭示負相關的關係。\n",
    "* 有此我們應檢討在過去我們總認為肺癌的發生與菸有極大的關係(或許確實有)，但即使隨健康意識的抬頭及一些政策減少了抽菸的人數，但對於惡性腫瘤的抑制卻未得到理想的結果，這或許存在著其他更嚴重的因素影響著腫瘤的發生率，值得我們去探討！"
   ]
  },
  {
   "cell_type": "code",
   "execution_count": null,
   "metadata": {},
   "outputs": [],
   "source": []
  }
 ],
 "metadata": {
  "kernelspec": {
   "display_name": "Python 3",
   "language": "python",
   "name": "python3"
  },
  "language_info": {
   "codemirror_mode": {
    "name": "ipython",
    "version": 3
   },
   "file_extension": ".py",
   "mimetype": "text/x-python",
   "name": "python",
   "nbconvert_exporter": "python",
   "pygments_lexer": "ipython3",
   "version": "3.6.8"
  }
 },
 "nbformat": 4,
 "nbformat_minor": 2
}
